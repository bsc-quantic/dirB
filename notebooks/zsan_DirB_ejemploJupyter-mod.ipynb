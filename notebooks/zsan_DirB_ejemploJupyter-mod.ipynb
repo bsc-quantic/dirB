{
 "cells": [
  {
   "cell_type": "code",
   "execution_count": 1,
   "id": "d52e0490",
   "metadata": {},
   "outputs": [],
   "source": [
    "import os\n",
    "os.chdir(\"..\")\n",
    "\n",
    "from dirB.base import zsan_DirB\n",
    "from datetime import date\n",
    "import time\n",
    "import shutil"
   ]
  },
  {
   "cell_type": "markdown",
   "id": "0c943710",
   "metadata": {},
   "source": [
    "# Primer paso: creación de un DIR-B"
   ]
  },
  {
   "cell_type": "code",
   "execution_count": 2,
   "id": "6bf48b71",
   "metadata": {},
   "outputs": [
    {
     "name": "stdout",
     "output_type": "stream",
     "text": [
      "1) El contenido del diccionario del caso\n",
      "{'x': 12}\n",
      "\n",
      "2) Representar la info disponible del DIR-B\n",
      "\n",
      " ===>  Descripción DIR-B adsfas.hdf5\n",
      "\n",
      " **** Atributos del CASO incluido en el DIR-B  ****** \n",
      "Autor             RC01334\n",
      "Dia            2023-06-27\n",
      "Escenario           Acido\n",
      "Numero Caso            23\n",
      "\n",
      " **** Aún no se han cargado soluciones en el DIR-B ******  \n",
      "\n",
      "\n",
      "\n",
      "3) Atributos del caso\n",
      "\n",
      " ===>  Descripción DIR-B adsfas.hdf5\n",
      "\n",
      " **** Atributos del CASO incluido en el DIR-B  ****** \n",
      "Autor             RC01334\n",
      "Dia            2023-06-27\n",
      "Escenario           Acido\n",
      "Numero Caso            23\n",
      "\n",
      "None\n",
      "\n",
      "4) Atributos de todas las soluciones \n",
      "\n",
      " Aún no hay soluciones cargadas\n"
     ]
    }
   ],
   "source": [
    "diccionarioCaso = {'x': 12}  # Evidentemente más complejo en caso real\n",
    "\n",
    "diccionarioAtributosCaso = {\n",
    "                            'Autor': 'RC01334',\n",
    "                            'Dia':  str(date.today()),\n",
    "                            'Escenario': 'Acido',\n",
    "                            'Numero Caso': 23\n",
    "                            }\n",
    "a = zsan_DirB()\n",
    "a.creaNuevoCaso(diccionarioCaso, diccionarioAtributosCaso, nombreDeFichero = \"adsfas.hdf5\")\n",
    "\n",
    "dic = a.recuperaCasoComoDiccionario()\n",
    "print('1) El contenido del diccionario del caso')\n",
    "print(dic)\n",
    "print('')\n",
    "print('2) Representar la info disponible del DIR-B')\n",
    "print(a)\n",
    "print('')\n",
    "print('3) Atributos del caso')\n",
    "print(a.representaAtributosDelCaso())\n",
    "print('')\n",
    "print('4) Atributos de todas las soluciones ')\n",
    "a.representaAtributosDeTodasLasSoluciones()"
   ]
  },
  {
   "cell_type": "markdown",
   "id": "86ff7c84",
   "metadata": {},
   "source": [
    "# Segundo paso: carga de soluciones en un DIR-B ya creado"
   ]
  },
  {
   "cell_type": "code",
   "execution_count": 3,
   "id": "05fe906b",
   "metadata": {},
   "outputs": [
    {
     "name": "stdout",
     "output_type": "stream",
     "text": [
      "Verificamos que el JSON que define el CASO es leido correctamente\n",
      "{'x': 12}\n"
     ]
    }
   ],
   "source": [
    "# El ID, que caracteriza el DIR-B, es un mero atributo\n",
    "ID = a.nombreDeFichero\n",
    "\n",
    "# 1) A modo demo, cargamos el DIR-B en otro objeto  \n",
    "b = zsan_DirB()\n",
    "b.cargaCaso(ID)\n",
    "\n",
    "# 2) Tras instanciar el objeto DIR-B, lo procedente es recuperar contenido del caso para realizar\n",
    "#    operaciones sobre el mimo\n",
    "diccionarioCaso = b.recuperaCasoComoDiccionario()\n",
    "print('Verificamos que el JSON que define el CASO es leido correctamente')\n",
    "print(diccionarioCaso) \n",
    "\n",
    "# 2a) Simulamos el tratamiento (en general, sera mucho mas complejo) de CASO para generar\n",
    "#     la primera SOLUCION\n",
    "valorOriginal = diccionarioCaso['x']\n",
    "valorSalida = 2*valorOriginal\n",
    "# Generación\n",
    "diccionarioSolucion_01 = {\n",
    "                  'entrada' : valorOriginal,\n",
    "                  'unValor': 2,\n",
    "                  'resultado': valorSalida\n",
    "                  }\n",
    "# Atributos/Metadatos\n",
    "diccionarioAtributosSolucion_01 = {\n",
    "                  'Autor': 'RC01334',\n",
    "                  'Dia':  str(date.today()),\n",
    "                  'VersionCódigo': 1,\n",
    "                  'Infraestructura': 'x86'\n",
    "                               }\n",
    "# 3) Guardar la info correspondiente a la solución\n",
    "b.guardaNuevaSolucion(diccionarioSolucion_01, diccionarioAtributosSolucion_01)"
   ]
  },
  {
   "cell_type": "markdown",
   "id": "a7c49da8",
   "metadata": {},
   "source": [
    "## Simulamos la carga de una segunda solución en el DIR-B"
   ]
  },
  {
   "cell_type": "code",
   "execution_count": 4,
   "id": "4bae10ef",
   "metadata": {},
   "outputs": [],
   "source": [
    "ID = a.nombreDeFichero\n",
    "\n",
    "c = zsan_DirB()\n",
    "c.cargaCaso(ID)\n",
    "\n",
    "diccionarioCaso = c.recuperaCasoComoDiccionario()\n",
    "\n",
    "valorOriginal = diccionarioCaso['x']\n",
    "valorSalida = 3*valorOriginal\n",
    "# Generación de resultado\n",
    "diccionarioSolucion_02 = {\n",
    "                  'entrada' : valorOriginal,\n",
    "                  'unValor': 3,\n",
    "                  'resultado': valorSalida\n",
    "                  }\n",
    "diccionarioAtributosSolucion_02 = {\n",
    "                  'Autor': 'RC01334',\n",
    "                  'Dia':  str(date.today()),\n",
    "                  #          'VersionCódigo': 2,  # Para que exista hetereogeneidad de atributos\n",
    "                  'Infraestructura': 'x86'\n",
    "                  }\n",
    "\n",
    "# 3) Guardar la info correspondiente a la solución\n",
    "c.guardaNuevaSolucion(diccionarioSolucion_02, diccionarioAtributosSolucion_02)"
   ]
  },
  {
   "cell_type": "markdown",
   "id": "749aa543",
   "metadata": {},
   "source": [
    "### Simulamos carga de otra solucion dentro del DIR-B"
   ]
  },
  {
   "cell_type": "code",
   "execution_count": 5,
   "id": "a8e394a8",
   "metadata": {},
   "outputs": [],
   "source": [
    "d = zsan_DirB()\n",
    "d.cargaCaso(ID)\n",
    "\n",
    "diccionarioCaso = d.recuperaCasoComoDiccionario()\n",
    "\n",
    "valor = diccionarioCaso['x']\n",
    "valorSalida = 4*valorOriginal\n",
    "diccionarioSolucion_03 = {\n",
    "                  'entrada' : valorOriginal,\n",
    "                  'unValor': 4,\n",
    "                  'resultado': valorSalida\n",
    "                  }\n",
    "diccionarioAtributosSolucion_03 = {\n",
    "                               'Autor': 'rep32156',\n",
    "                               'Dia':  str(date.today()),\n",
    "                               'VersionCódigo': 3,\n",
    "                    #           'Infraestructura': 'x86' # Para que exista hetereogeneidad de atributos\n",
    "                               }\n",
    "d.guardaNuevaSolucion(diccionarioSolucion_03, diccionarioAtributosSolucion_03)    "
   ]
  },
  {
   "cell_type": "markdown",
   "id": "04ab33d8",
   "metadata": {},
   "source": [
    "# Tercer paso: Explotacion de Resultados"
   ]
  },
  {
   "cell_type": "code",
   "execution_count": 6,
   "id": "6c3a1fc9",
   "metadata": {},
   "outputs": [
    {
     "name": "stdout",
     "output_type": "stream",
     "text": [
      "Solucion 1\n",
      "{'entrada': 12, 'unValor': 2, 'resultado': 24}\n",
      "Solucion 2\n",
      "{'entrada': 12, 'unValor': 3, 'resultado': 36}\n",
      "Solucion 3\n",
      "{'entrada': 12, 'unValor': 4, 'resultado': 48}\n",
      " \n",
      "***** Funcionalidad analisis de detalles\n",
      "\n",
      " ===>  Descripción DIR-B adsfas.hdf5\n",
      "\n",
      " **** Atributos del CASO incluido en el DIR-B  ****** \n",
      "Autor             RC01334\n",
      "Dia            2023-06-27\n",
      "Escenario           Acido\n",
      "Numero Caso            23\n",
      "\n",
      " **** Atributos de soluciones incluidas en el DIR-B ******  \n",
      " \n",
      "                Autor         Dia Infraestructura  VersionCódigo\n",
      "SOLUCION  1   RC01334  2023-06-27             x86            1.0\n",
      "SOLUCION  2   RC01334  2023-06-27             x86            NaN\n",
      "SOLUCION  3  rep32156  2023-06-27             NaN            3.0 \n",
      "\n",
      "\n",
      " \n",
      "******************************************************************************\n",
      "Revisar ahora el uso del resto de métodos en MODO DEMO\n",
      "******************************************************************************\n",
      "-representaAtributosDeTodasLasSoluciones(self)\n",
      "-representaAtributosDelCaso(self)\n",
      "-listaSolucionesQueTienenDeterminadoAtributo(self, literalDeUnAtributo)\n",
      "-listaSolucionesQue_NO_TienenDeterminadoAtributo(self, literalDeUnAtributo)\n",
      "-atributosDeUnaSolucion(self, unNumeroDeSolucion)\n",
      "-siUnaSolucionTieneUnAtributo(self, unNumeroDeSolucion, literalDeUnAtributo)\n",
      "-solucionesQueTienenUnValorEntreSusAtributos(self, unLiteral)\n",
      "-solucionesQueTieneUnAtributoEnUnaListaPosiblesValores(self, unLiteralAtributo, listaValores)\n"
     ]
    }
   ],
   "source": [
    "ID = a.nombreDeFichero\n",
    "\n",
    "e = zsan_DirB()\n",
    "e.cargaCaso(ID)\n",
    "\n",
    "print('Solucion 1')\n",
    "solucion01 = e.recuperaSolucionComoDiccionario(numeroDeSolucion=1)\n",
    "print(solucion01)\n",
    "print('Solucion 2')\n",
    "solucion02 = e.recuperaSolucionComoDiccionario(numeroDeSolucion=2)\n",
    "print(solucion02)\n",
    "print('Solucion 3')\n",
    "solucion03 = e.recuperaSolucionComoDiccionario(numeroDeSolucion=3)\n",
    "print(solucion03)\n",
    "print(' ')\n",
    "print('***** Funcionalidad analisis de detalles')\n",
    "print(e)\n",
    "print(' ')\n",
    "print(\"******************************************************************************\")\n",
    "print('Revisar ahora el uso del resto de métodos en MODO DEMO')\n",
    "print(\"******************************************************************************\")        \n",
    "print( \"-representaAtributosDeTodasLasSoluciones(self)\") \n",
    "print( \"-representaAtributosDelCaso(self)\")              \n",
    "print( \"-listaSolucionesQueTienenDeterminadoAtributo(self, literalDeUnAtributo)\") \n",
    "print( \"-listaSolucionesQue_NO_TienenDeterminadoAtributo(self, literalDeUnAtributo)\") \n",
    "print( \"-atributosDeUnaSolucion(self, unNumeroDeSolucion)\") \n",
    "print( \"-siUnaSolucionTieneUnAtributo(self, unNumeroDeSolucion, literalDeUnAtributo)\") \n",
    "print( \"-solucionesQueTienenUnValorEntreSusAtributos(self, unLiteral)\") \n",
    "print( \"-solucionesQueTieneUnAtributoEnUnaListaPosiblesValores(self, unLiteralAtributo, listaValores)\") \n"
   ]
  },
  {
   "cell_type": "markdown",
   "id": "4e9d3a3f",
   "metadata": {},
   "source": [
    "# Parte más sútil: merge de soluciones"
   ]
  },
  {
   "cell_type": "code",
   "execution_count": 7,
   "id": "fd7fe55d",
   "metadata": {},
   "outputs": [
    {
     "name": "stdout",
     "output_type": "stream",
     "text": [
      "Generados \n",
      "    adsfas.hdf5_V_01.hdf5\n",
      "    adsfas.hdf5_V_02.hdf5\n"
     ]
    }
   ],
   "source": [
    "# duplicamos el fichero con el ID con el estado que tiene d.ID\n",
    "# sería como si hubiera sido procesado en paralelo por varios procesos diferentes\n",
    "ID     = d.nombreDeFichero\n",
    "nombreOrigen     = ID\n",
    "\n",
    "ID_01 =  d.nombreDeFichero + '_V_01'\n",
    "nombreDestino_01 = ID_01 +  '.hdf5'\n",
    "\n",
    "ID_02 =  d.nombreDeFichero + '_V_02'\n",
    "nombreDestino_02 = ID_02 +  '.hdf5'\n",
    "\n",
    "shutil.copy(nombreOrigen, nombreDestino_01)\n",
    "time.sleep(2)\n",
    "shutil.copy(nombreOrigen, nombreDestino_02)\n",
    "time.sleep(2)\n",
    "\n",
    "print('Generados ')\n",
    "print('   ', nombreDestino_01)\n",
    "print('   ', nombreDestino_02)"
   ]
  },
  {
   "cell_type": "code",
   "execution_count": 9,
   "id": "da2c0986",
   "metadata": {},
   "outputs": [
    {
     "name": "stdout",
     "output_type": "stream",
     "text": [
      " \n",
      " Ojo: en APLICACION REALISTA el ID_salida, deberia de ser ID original\n"
     ]
    }
   ],
   "source": [
    "# En este punto los ficheros nombreDestino_01 y nombreDestino_02 ==> tienen el mismo DIR-B  \n",
    "# y simula el proceso en el que el mismo ID que ha sido procesado \"en paralelo\"\n",
    "\n",
    "from dirB.merge import mergeDeDosDirB\n",
    "\n",
    "ID_salida =  '2023-05-15.hdf5'\n",
    "print(' ')\n",
    "print(' Ojo: en APLICACION REALISTA el ID_salida, deberia de ser ID original')\n",
    "\n",
    "\n",
    "# La acción de merge\n",
    "dirb_merged = mergeDeDosDirB(nombreDestino_01, nombreDestino_02, ID_salida)"
   ]
  },
  {
   "cell_type": "code",
   "execution_count": null,
   "id": "56adc38b",
   "metadata": {},
   "outputs": [],
   "source": [
    "# Comprobamos el contenido de dirb_merged\n",
    "print('Importante == recomendable copiar ')\n",
    "print(dirb_merged.fullPath)\n",
    "print(' y visualizar cotenido en visor HDF5 -pej hdf5view- ')"
   ]
  },
  {
   "cell_type": "code",
   "execution_count": 7,
   "id": "3d380a0a",
   "metadata": {},
   "outputs": [
    {
     "data": {
      "text/plain": [
       "{'entrada': 12, 'unValor': 2, 'resultado': 24}"
      ]
     },
     "execution_count": 7,
     "metadata": {},
     "output_type": "execute_result"
    }
   ],
   "source": [
    "b.recuperaSolucionComoDiccionario(1)"
   ]
  },
  {
   "cell_type": "code",
   "execution_count": 6,
   "id": "e668b091",
   "metadata": {},
   "outputs": [
    {
     "data": {
      "text/plain": [
       "['1']"
      ]
     },
     "execution_count": 6,
     "metadata": {},
     "output_type": "execute_result"
    }
   ],
   "source": [
    "b.listaSoluciones"
   ]
  },
  {
   "cell_type": "code",
   "execution_count": null,
   "id": "9b4a5a43",
   "metadata": {},
   "outputs": [],
   "source": []
  }
 ],
 "metadata": {
  "kernelspec": {
   "display_name": "Python 3 (ipykernel)",
   "language": "python",
   "name": "python3"
  },
  "language_info": {
   "codemirror_mode": {
    "name": "ipython",
    "version": 3
   },
   "file_extension": ".py",
   "mimetype": "text/x-python",
   "name": "python",
   "nbconvert_exporter": "python",
   "pygments_lexer": "ipython3",
   "version": "3.10.7"
  },
  "toc": {
   "base_numbering": 1,
   "nav_menu": {},
   "number_sections": true,
   "sideBar": true,
   "skip_h1_title": false,
   "title_cell": "Table of Contents",
   "title_sidebar": "Contents",
   "toc_cell": false,
   "toc_position": {},
   "toc_section_display": true,
   "toc_window_display": false
  },
  "varInspector": {
   "cols": {
    "lenName": 16,
    "lenType": 16,
    "lenVar": 40
   },
   "kernels_config": {
    "python": {
     "delete_cmd_postfix": "",
     "delete_cmd_prefix": "del ",
     "library": "var_list.py",
     "varRefreshCmd": "print(var_dic_list())"
    },
    "r": {
     "delete_cmd_postfix": ") ",
     "delete_cmd_prefix": "rm(",
     "library": "var_list.r",
     "varRefreshCmd": "cat(var_dic_list()) "
    }
   },
   "types_to_exclude": [
    "module",
    "function",
    "builtin_function_or_method",
    "instance",
    "_Feature"
   ],
   "window_display": false
  }
 },
 "nbformat": 4,
 "nbformat_minor": 5
}
