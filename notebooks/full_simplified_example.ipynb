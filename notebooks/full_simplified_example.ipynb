{
 "cells": [
  {
   "cell_type": "code",
   "execution_count": 1,
   "id": "11206b76",
   "metadata": {},
   "outputs": [],
   "source": [
    "import os\n",
    "os.chdir(\"..\")\n",
    "\n",
    "from dirB.base import zsan_DirB\n",
    "from datetime import date, datetime\n",
    "import time\n",
    "import shutil"
   ]
  },
  {
   "cell_type": "markdown",
   "id": "c1b313d6",
   "metadata": {},
   "source": [
    "# Create base case"
   ]
  },
  {
   "cell_type": "code",
   "execution_count": 2,
   "id": "4d259cbc",
   "metadata": {},
   "outputs": [],
   "source": [
    "diccionarioCasoBase = { 'x': 12,\n",
    "                        'y': 7}\n",
    "diccionarioAtributosCasoBase = {\n",
    "                        'Autor': 'RC01334',\n",
    "                        'Dia':  str(date.today()),\n",
    "                        'Escenario': 'Acido',\n",
    "                        'Numero Caso': 23\n",
    "                        }\n",
    "\n",
    "casoBase = zsan_DirB()\n",
    "casoBase.creaNuevoCaso(diccionarioCasoBase, diccionarioAtributosCasoBase, nombreDeFichero = \"casoBase.hdf5\")"
   ]
  },
  {
   "cell_type": "markdown",
   "id": "ff831ce5",
   "metadata": {},
   "source": [
    "# Create a solution file to add to the base case\n",
    "This is what a user will do: copy the base file and add their new solution parameters"
   ]
  },
  {
   "cell_type": "code",
   "execution_count": 3,
   "id": "2fca5001",
   "metadata": {},
   "outputs": [],
   "source": [
    "diccionarioSolucionCaso_1 = {'ex1': 'xxx',\n",
    "                             'ex2': 'yyy',\n",
    "                             'ex3': 'zzz'}\n",
    "diccionarioAtributosSolucionCaso_1 = {\n",
    "                            'Autor': 'BSC0123',\n",
    "                            'Dia':  str(datetime.now()),\n",
    "                            'Escenario': 'Amargo',\n",
    "                            }\n",
    "\n",
    "shutil.copy(\"casoBase.hdf5\", \"casoConSolucion_01.hdf5\")\n",
    "time.sleep(2)    # Really necessary?\n",
    "\n",
    "solucion_1 = zsan_DirB()\n",
    "solucion_1.cargaCaso(\"casoConSolucion_01.hdf5\")\n",
    "solucion_1.guardaNuevaSolucion(diccionarioSolucionCaso_1, diccionarioAtributosSolucionCaso_1)"
   ]
  },
  {
   "cell_type": "markdown",
   "id": "5af41f6d",
   "metadata": {},
   "source": [
    "# Create remainging solutions"
   ]
  },
  {
   "cell_type": "code",
   "execution_count": 4,
   "id": "c699f165",
   "metadata": {},
   "outputs": [],
   "source": [
    "diccionarioSolucionCaso_2 = {'48': 4.0,\n",
    "                             '4': 48.2}\n",
    "diccionarioSolucionCaso_3 = {'param1': 'p1',\n",
    "                             'param2': 'p2',\n",
    "                             'param3': 'p3',\n",
    "                             'param4': 'p4',\n",
    "                             'param5': 'p5'\n",
    "                            }\n",
    "diccionarioSolucionCaso_4 = {'xx': \"xy\"}\n",
    "diccionarioSolucionCaso_5 = {'parametro1': 3.14156,\n",
    "                             'parametro2': 9.5,\n",
    "                             'parametro3': \"AAXX\"}\n",
    "diccionarioSolucionCaso_6 = {'Carpenter Brut': [\"Roller Mobster\", \"Disco Zombi Italia\"],\n",
    "                             'Vacations': ['Days', 'Day Dreaming', 'No Fun', 'Away']}\n",
    "diccionarioSolucionCaso_7 = {'asdf': 1234,\n",
    "                             'qwer': '0000',\n",
    "                             'zxcv': True}\n",
    "\n",
    "diccionarioAtributosSolucionCaso_2 = {\n",
    "                            'Institución': \"BSC\",\n",
    "                            'Case Name': 'CASO 3',\n",
    "                            'Autores': 'RC01334',\n",
    "                            'Date': '10-09-2018',\n",
    "                            'Numero Caso': 23\n",
    "                            }\n",
    "diccionarioAtributosSolucionCaso_3 = {\n",
    "                            'id': 1,\n",
    "                            }\n",
    "diccionarioAtributosSolucionCaso_4 = {\n",
    "                            'Autor-id-scenario-fecha': 'bsc-1-cuco-04-03-2022'\n",
    "                            }\n",
    "diccionarioAtributosSolucionCaso_5 = {\n",
    "                            }\n",
    "diccionarioAtributosSolucionCaso_6 = {\n",
    "                            'Institución': \"Repsol\",\n",
    "                            'Case Name': \"CASO 3\",\n",
    "                            'Autor-id-scenario-fecha': 'repsol-1-cuco-04-03-2022',\n",
    "                            'a': 'b',\n",
    "                            'c': 'd',\n",
    "                            'e': 'f',\n",
    "                            'g': 'h',\n",
    "                            'i': 'j',\n",
    "                            'k': 'l',\n",
    "                            'm': 'n',\n",
    "                            'o': 'p'\n",
    "                            }\n",
    "diccionarioAtributosSolucionCaso_7 = {\n",
    "                            'Institución': \"\",\n",
    "                            'Fecha':  str(date.today()),\n",
    "                            'Completado': True,\n",
    "                            'Numero Caso': 24\n",
    "                            }\n",
    "\n",
    "\n",
    "shutil.copy(\"casoBase.hdf5\", \"casoConSolucion_02.hdf5\")\n",
    "time.sleep(2)    # Really necessary?\n",
    "\n",
    "solucion_2 = zsan_DirB()\n",
    "solucion_2.cargaCaso(\"casoConSolucion_02.hdf5\")\n",
    "solucion_2.guardaNuevaSolucion(diccionarioSolucionCaso_2, diccionarioAtributosSolucionCaso_2)\n",
    "\n",
    "\n",
    "shutil.copy(\"casoBase.hdf5\", \"casoConSolucion_03.hdf5\")\n",
    "time.sleep(2)    # Really necessary?\n",
    "\n",
    "solucion_3 = zsan_DirB()\n",
    "solucion_3.cargaCaso(\"casoConSolucion_03.hdf5\")\n",
    "solucion_3.guardaNuevasSoluciones([diccionarioSolucionCaso_3, diccionarioSolucionCaso_4], [diccionarioAtributosSolucionCaso_3, diccionarioAtributosSolucionCaso_4])\n",
    "\n",
    "\n",
    "shutil.copy(\"casoBase.hdf5\", \"casoConSolucion_05.hdf5\")\n",
    "time.sleep(2)    # Really necessary?\n",
    "\n",
    "solucion_5 = zsan_DirB()\n",
    "solucion_5.cargaCaso(\"casoConSolucion_05.hdf5\")\n",
    "solucion_5.guardaNuevaSolucion(diccionarioSolucionCaso_5, diccionarioAtributosSolucionCaso_5)\n",
    "\n",
    "\n",
    "shutil.copy(\"casoBase.hdf5\", \"casoConSolucion_06.hdf5\")\n",
    "time.sleep(2)    # Really necessary?\n",
    "\n",
    "solucion_6 = zsan_DirB()\n",
    "solucion_6.cargaCaso(\"casoConSolucion_06.hdf5\")\n",
    "solucion_6.guardaNuevasSoluciones([diccionarioSolucionCaso_6, diccionarioSolucionCaso_7], [diccionarioAtributosSolucionCaso_6, diccionarioAtributosSolucionCaso_7])"
   ]
  },
  {
   "cell_type": "code",
   "execution_count": 5,
   "id": "f174cbbc",
   "metadata": {},
   "outputs": [],
   "source": [
    "from dirB.merge import mergeListaDeSoluciones\n",
    "\n",
    "casoBase = 'casoBase.hdf5'\n",
    "listaDeCasos = ['casoConSolucion_01.hdf5', 'casoConSolucion_02.hdf5', 'casoConSolucion_03.hdf5',\n",
    "                'casoConSolucion_05.hdf5', 'casoConSolucion_06.hdf5']\n",
    "id_salida = \"salida.hdf5\"\n",
    "\n",
    "mergedList = mergeListaDeSoluciones(casoBase, listaDeCasos, id_salida)"
   ]
  },
  {
   "cell_type": "code",
   "execution_count": 6,
   "id": "ba6eaf49",
   "metadata": {},
   "outputs": [
    {
     "name": "stdout",
     "output_type": "stream",
     "text": [
      "Visualizar resultado en 'C:\\Users\\German\\Documents\\Work\\Repsol\\dirB\\salida.hdf5' con hdf5view, p.ej.'\n"
     ]
    }
   ],
   "source": [
    "print(\"Visualizar resultado en '\" + mergedList.fullPath + \"' con hdf5view, p.ej.'\")"
   ]
  },
  {
   "cell_type": "code",
   "execution_count": 2,
   "id": "e96d6aa5",
   "metadata": {},
   "outputs": [],
   "source": [
    "mergedDirB = zsan_DirB()\n",
    "mergedDirB.cargaCaso(\"salida.hdf5\")"
   ]
  },
  {
   "cell_type": "code",
   "execution_count": 3,
   "id": "2ee9c7f9",
   "metadata": {},
   "outputs": [
    {
     "data": {
      "text/plain": [
       "[('2', 'SOLUCION 2', 'Valor = RC01334')]"
      ]
     },
     "execution_count": 3,
     "metadata": {},
     "output_type": "execute_result"
    }
   ],
   "source": [
    "mergedDirB.listaSolucionesQueTienenDeterminadoAtributo(\"Autores\")"
   ]
  },
  {
   "cell_type": "code",
   "execution_count": 4,
   "id": "f80c1c98",
   "metadata": {},
   "outputs": [
    {
     "data": {
      "text/plain": [
       "{'Completado': True,\n",
       " 'Fecha': '2023-07-05',\n",
       " 'Institución': '',\n",
       " 'Numero Caso': 24}"
      ]
     },
     "execution_count": 4,
     "metadata": {},
     "output_type": "execute_result"
    }
   ],
   "source": [
    "mergedDirB.atributosDeUnaSolucion(7)"
   ]
  },
  {
   "cell_type": "code",
   "execution_count": 5,
   "id": "320f2118",
   "metadata": {},
   "outputs": [
    {
     "data": {
      "text/plain": [
       "[('3', 'SOLUCION 3', 'Atributo = id'),\n",
       " ('7', 'SOLUCION 7', 'Atributo = Completado')]"
      ]
     },
     "execution_count": 5,
     "metadata": {},
     "output_type": "execute_result"
    }
   ],
   "source": [
    "mergedDirB.solucionesQueTienenUnValorEntreSusAtributos(1)"
   ]
  },
  {
   "cell_type": "code",
   "execution_count": 6,
   "id": "547750e5",
   "metadata": {},
   "outputs": [
    {
     "name": "stdout",
     "output_type": "stream",
     "text": [
      "True\n",
      "False\n"
     ]
    }
   ],
   "source": [
    "print(mergedDirB.siUnaSolucionTieneUnAtributo(2, \"Date\"))\n",
    "print(mergedDirB.siUnaSolucionTieneUnAtributo(2, \"Fecha\"))"
   ]
  },
  {
   "cell_type": "code",
   "execution_count": 7,
   "id": "8557f708",
   "metadata": {},
   "outputs": [
    {
     "name": "stdout",
     "output_type": "stream",
     "text": [
      "[('2', 'SOLUCION 2', 'Valor = CASO 3'), ('6', 'SOLUCION 6', 'Valor = CASO 3')]\n"
     ]
    }
   ],
   "source": [
    "soluciones = mergedDirB.solucionesQueTieneUnAtributoEnUnaListaPosiblesValores(\"Case Name\", [\"CASO 3\"])\n",
    "print(soluciones)"
   ]
  },
  {
   "cell_type": "code",
   "execution_count": 20,
   "id": "67bda212",
   "metadata": {},
   "outputs": [
    {
     "name": "stdout",
     "output_type": "stream",
     "text": [
      "Solución 2:\n",
      "\tAutores RC01334\n",
      "\tCase Name CASO 3\n",
      "\tDate 10-09-2018\n",
      "\tInstitución BSC\n",
      "\tNumero Caso 23\n",
      "\n",
      "Solución 6:\n",
      "\tAutor-id-scenario-fecha repsol-1-cuco-04-03-2022\n",
      "\tCase Name CASO 3\n",
      "\tInstitución Repsol\n",
      "\ta b\n",
      "\tc d\n",
      "\te f\n",
      "\tg h\n",
      "\ti j\n",
      "\tk l\n",
      "\tm n\n",
      "\to p\n",
      "\n"
     ]
    }
   ],
   "source": [
    "for s in soluciones:\n",
    "    print(\"Solución \" + str(s[0]) + \":\")\n",
    "    print(''.join(['\\t{0} {1}\\n'.format(k, v) for k, v in mergedDirB.atributosDeUnaSolucion(s[0]).items()]))"
   ]
  }
 ],
 "metadata": {
  "kernelspec": {
   "display_name": "Python 3 (ipykernel)",
   "language": "python",
   "name": "python3"
  },
  "language_info": {
   "codemirror_mode": {
    "name": "ipython",
    "version": 3
   },
   "file_extension": ".py",
   "mimetype": "text/x-python",
   "name": "python",
   "nbconvert_exporter": "python",
   "pygments_lexer": "ipython3",
   "version": "3.10.7"
  }
 },
 "nbformat": 4,
 "nbformat_minor": 5
}
