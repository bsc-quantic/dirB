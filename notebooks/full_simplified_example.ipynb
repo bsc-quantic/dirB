{
 "cells": [
  {
   "cell_type": "code",
   "execution_count": 1,
   "id": "11206b76",
   "metadata": {},
   "outputs": [],
   "source": [
    "import os\n",
    "os.chdir(\"..\")\n",
    "\n",
    "from dirB.base import zsan_DirB\n",
    "from datetime import date, datetime\n",
    "import time\n",
    "import shutil"
   ]
  },
  {
   "cell_type": "markdown",
   "id": "c1b313d6",
   "metadata": {},
   "source": [
    "# Create base case"
   ]
  },
  {
   "cell_type": "code",
   "execution_count": 2,
   "id": "4d259cbc",
   "metadata": {},
   "outputs": [
    {
     "name": "stdout",
     "output_type": "stream",
     "text": [
      "Creando dirB en /mnt/c/Users/gnavarr2/Documents/Work/dirB/casoBase.hdf5...\n"
     ]
    }
   ],
   "source": [
    "diccionarioCasoBase = { 'x': 12,\n",
    "                        'y': 7}\n",
    "diccionarioAtributosCasoBase = {\n",
    "                        'Autor': 'RC01334',\n",
    "                        'Dia':  str(date.today()),\n",
    "                        'Escenario': 'Acido',\n",
    "                        'Numero Caso': 23\n",
    "                        }\n",
    "\n",
    "casoBase = zsan_DirB()\n",
    "casoBase.creaNuevoCaso(diccionarioCasoBase, diccionarioAtributosCasoBase, nombreDeFichero = \"casoBase.hdf5\", password = \"t5~Y$ff.8.\")"
   ]
  },
  {
   "cell_type": "code",
   "execution_count": 3,
   "id": "33d82cfc",
   "metadata": {},
   "outputs": [
    {
     "name": "stdout",
     "output_type": "stream",
     "text": [
      "\n",
      " ===>  Descripción DIR-B casoBase.hdf5\n",
      "\n",
      " **** Parámetros del CASO incluido en el DIR-B  ****** \n",
      "encrypted                                                                                                                                            True\n",
      "password                                                                                                gAAAAABnzsxbEPFvVQoOF7itnsQQRs-VPgjM1OK7CwMvTs...\n",
      "salt                                                                                                                                     ê4 ²únÍ7qY5²µ»7É\n",
      "gAAAAABnzsxbpZQQw9doZ6UWCwfv5oQqR-y0gPQg7sKNFem40dWOFsbGcBtca7TTRU03uaJdGzgi5PFHgXed3IG01FhVYVcLGw==    gAAAAABnzsxbF32nRK_e3pr42QbjBfayvBskC78MDAPBn0...\n",
      "gAAAAABnzsxbikO2XoxuCyBTOJiBtNaa_u1VWIUXMG3-_xXil76_DgVc4zI53oBKcaYrCo3KuF_0U86EI7JaMg7ZJ-e0s70wKA==    gAAAAABnzsxb0rxDS6M-SGxW79gTMUF6mXKR9t2d-4YSn5...\n",
      "\n",
      " **** Atributos del CASO incluido en el DIR-B  ****** \n",
      "gAAAAABnzsxbGw_ATexEt_ODcmvHO9tS7UrHXYKWWopB1Im5tuhpIi0BgB1BA3-2_VcqhXSOfeVQMBaH6NTL92yyLBwtPLGPIg==    gAAAAABnzsxb1dLabJbX6r_tXSgW32S5ZAyk_awLMG20At...\n",
      "gAAAAABnzsxbPXIgCeDZBub64HMAcRS9rNHWGINgCFPyqF9BbBnScQk2qpImS_r1zYgz-YICjLc_tXgY3st8JgKDkiZFlnLeDw==    gAAAAABnzsxb0QTw1GV111h5BjW_105g4Tu7dYAkPLON1Y...\n",
      "gAAAAABnzsxbjEBmjvEqQ6RWmQswcOpMOc7zL-cxanNZWHaXR9uTKgaOejRGcL3QtavLvx6pXoJpJRQ-qJWEnGmsURaiKVxpuA==    gAAAAABnzsxbZ0mpFyEovf4FG7_wOli9yT_kIA960RA56_...\n",
      "gAAAAABnzsxbvxmpI6QM4XCAwWD1qRO7bzSYC_KhwcbWGu4HRBe2bAiJmNoBmHPwbYTgAU3vTXJsNjX__BCY_S4bTRnMYmh6Eg==    gAAAAABnzsxbbzeZFsVEtoB8FjpY2CHzcKtJ-qBUQAg4uZ...\n",
      "\n",
      " **** Aún no se han cargado soluciones en el DIR-B ******  \n",
      "\n",
      "\n"
     ]
    }
   ],
   "source": [
    "print(casoBase)"
   ]
  },
  {
   "cell_type": "code",
   "execution_count": null,
   "id": "c8727ca2",
   "metadata": {},
   "outputs": [
    {
     "name": "stdout",
     "output_type": "stream",
     "text": [
      "\n",
      " ===>  Descripción DIR-B casoBase.hdf5\n",
      "\n",
      " **** Parámetros del CASO incluido en el DIR-B  ****** \n",
      "encrypted                                                 True\n",
      "password     gAAAAABnzsxbEPFvVQoOF7itnsQQRs-VPgjM1OK7CwMvTs...\n",
      "salt                                          ê4 ²únÍ7qY5²µ»7É\n",
      "x            gAAAAABnzsxbF32nRK_e3pr42QbjBfayvBskC78MDAPBn0...\n",
      "y            gAAAAABnzsxb0rxDS6M-SGxW79gTMUF6mXKR9t2d-4YSn5...\n",
      "\n",
      " **** Atributos del CASO incluido en el DIR-B  ****** \n",
      "Escenario      gAAAAABnzsxb1dLabJbX6r_tXSgW32S5ZAyk_awLMG20At...\n",
      "Numero Caso    gAAAAABnzsxb0QTw1GV111h5BjW_105g4Tu7dYAkPLON1Y...\n",
      "Autor          gAAAAABnzsxbZ0mpFyEovf4FG7_wOli9yT_kIA960RA56_...\n",
      "Dia            gAAAAABnzsxbbzeZFsVEtoB8FjpY2CHzcKtJ-qBUQAg4uZ...\n",
      "\n",
      " **** Aún no se han cargado soluciones en el DIR-B ******  \n",
      "\n",
      "\n"
     ]
    }
   ],
   "source": [
    "casoBase.desencriptaClaves()\n",
    "print(casoBase)"
   ]
  },
  {
   "cell_type": "code",
   "execution_count": 5,
   "id": "003f7b15",
   "metadata": {},
   "outputs": [
    {
     "data": {
      "text/plain": [
       "'RC01334'"
      ]
     },
     "execution_count": 5,
     "metadata": {},
     "output_type": "execute_result"
    }
   ],
   "source": [
    "casoBase.desencriptaCampo_AttrsCaso(\"Autor\")"
   ]
  },
  {
   "cell_type": "markdown",
   "id": "ff831ce5",
   "metadata": {},
   "source": [
    "# Create a solution file to add to the base case\n",
    "This is what a user will do: copy the base file and add their new solution parameters"
   ]
  },
  {
   "cell_type": "code",
   "execution_count": 6,
   "id": "2fca5001",
   "metadata": {},
   "outputs": [
    {
     "name": "stdout",
     "output_type": "stream",
     "text": [
      "Initializing encryption instance with password and salt parameters...\n",
      "Clave correcta\n",
      "La solución se encriptará.\n"
     ]
    }
   ],
   "source": [
    "diccionarioSolucionCaso_1 = {'ex1': 'xxx',\n",
    "                             'ex2': 'yyy',\n",
    "                             'ex3': 'zzz'}\n",
    "diccionarioAtributosSolucionCaso_1 = {\n",
    "                            'Autor': 'BSC0123',\n",
    "                            'Dia':  str(datetime.now()),\n",
    "                            'Escenario': 'Amargo',\n",
    "                            }\n",
    "\n",
    "shutil.copy(\"casoBase.hdf5\", \"casoConSolucion_01.hdf5\")\n",
    "time.sleep(2)    # Really necessary?\n",
    "\n",
    "solucion_1 = zsan_DirB()\n",
    "solucion_1.cargaCaso(\"casoConSolucion_01.hdf5\", password = \"t5~Y$ff.8.\")\n",
    "solucion_1.guardaNuevaSolucion(diccionarioSolucionCaso_1, diccionarioAtributosSolucionCaso_1)"
   ]
  },
  {
   "cell_type": "code",
   "execution_count": 7,
   "id": "ca638c78",
   "metadata": {},
   "outputs": [
    {
     "name": "stdout",
     "output_type": "stream",
     "text": [
      "\n",
      " ===>  Descripción DIR-B casoConSolucion_01.hdf5\n",
      "\n",
      " **** Parámetros del CASO incluido en el DIR-B  ****** \n",
      "encrypted                                                                                                                                            True\n",
      "password                                                                                                gAAAAABnzsxbEPFvVQoOF7itnsQQRs-VPgjM1OK7CwMvTs...\n",
      "salt                                                                                                                                     ê4 ²únÍ7qY5²µ»7É\n",
      "gAAAAABnzsxbpZQQw9doZ6UWCwfv5oQqR-y0gPQg7sKNFem40dWOFsbGcBtca7TTRU03uaJdGzgi5PFHgXed3IG01FhVYVcLGw==    gAAAAABnzsxbF32nRK_e3pr42QbjBfayvBskC78MDAPBn0...\n",
      "gAAAAABnzsxbikO2XoxuCyBTOJiBtNaa_u1VWIUXMG3-_xXil76_DgVc4zI53oBKcaYrCo3KuF_0U86EI7JaMg7ZJ-e0s70wKA==    gAAAAABnzsxb0rxDS6M-SGxW79gTMUF6mXKR9t2d-4YSn5...\n",
      "\n",
      " **** Atributos del CASO incluido en el DIR-B  ****** \n",
      "gAAAAABnzsxbGw_ATexEt_ODcmvHO9tS7UrHXYKWWopB1Im5tuhpIi0BgB1BA3-2_VcqhXSOfeVQMBaH6NTL92yyLBwtPLGPIg==    gAAAAABnzsxb1dLabJbX6r_tXSgW32S5ZAyk_awLMG20At...\n",
      "gAAAAABnzsxbPXIgCeDZBub64HMAcRS9rNHWGINgCFPyqF9BbBnScQk2qpImS_r1zYgz-YICjLc_tXgY3st8JgKDkiZFlnLeDw==    gAAAAABnzsxb0QTw1GV111h5BjW_105g4Tu7dYAkPLON1Y...\n",
      "gAAAAABnzsxbjEBmjvEqQ6RWmQswcOpMOc7zL-cxanNZWHaXR9uTKgaOejRGcL3QtavLvx6pXoJpJRQ-qJWEnGmsURaiKVxpuA==    gAAAAABnzsxbZ0mpFyEovf4FG7_wOli9yT_kIA960RA56_...\n",
      "gAAAAABnzsxbvxmpI6QM4XCAwWD1qRO7bzSYC_KhwcbWGu4HRBe2bAiJmNoBmHPwbYTgAU3vTXJsNjX__BCY_S4bTRnMYmh6Eg==    gAAAAABnzsxbbzeZFsVEtoB8FjpY2CHzcKtJ-qBUQAg4uZ...\n",
      "\n",
      " **** Parámetros de soluciones incluidas en el DIR-B ******  \n",
      " \n",
      "            gAAAAABnzs1Yfxz2Z3pFMjIztyRcA58DXk0OG8fm7KzUG0HKfsLE_Xkacuc1MQQnSPhC0207_vGJ3JtKAUuPVvrr1xd1l9TwMA==  \\\n",
      "SOLUCION  1  gAAAAABnzs1YbpSc0Y3pH4zca2PHUCcLiXLlOrmM_s9hU8...                                                     \n",
      "\n",
      "            gAAAAABnzs1YMCi75AQe7H3erNx3F1FBkEMCCHOfV5K22JvoUhXZ4PcI4zD9A7snpi-L_YWmGqFOPrYGoeUTEdleb7awiwwL9w==  \\\n",
      "SOLUCION  1  gAAAAABnzs1YO6ftv7EJDxoUcCYPyn0XWlSo2VPw3Z5UCg...                                                     \n",
      "\n",
      "            gAAAAABnzs1YAV-9suvWhgd6Oi6f1ppQnprii8X_VxXhl96xn8prWSrswVUVOyu3jT-cYboZGd9Efb5mcbGPcNFIq0L_W83ryA==  \n",
      "SOLUCION  1  gAAAAABnzs1Ytpi1qq_lSvPAAcqDmAzwwKeojpmtrrd9cP...                                                     \n",
      "\n",
      " **** Atributos de soluciones incluidas en el DIR-B ******  \n",
      " \n",
      "            gAAAAABnzs1Ybcpqoz0OMJ28ySYieFsMuMmGCXgtuWD2dPiSB1c_KIWa9vsREngkHCmr6oCAxFmsCY4vAn2S8TBE3oO3w1B29w==  \\\n",
      "SOLUCION  1  gAAAAABnzs1YIdAWgIZyqEXmV0-Fsb8QCSQnVgCIGobr9a...                                                     \n",
      "\n",
      "            gAAAAABnzs1YtbossAEnzOg4tN3WxcUcnWNWULPaYR0OKxnyg6Hco3amLVrlCvwYK4fj7od6qOds-SKVBOrE6ogJOFHPlZ9Oeg==  \\\n",
      "SOLUCION  1  gAAAAABnzs1YJNp04F2PlckNBzwjGx8zi2KwfeQspmzntO...                                                     \n",
      "\n",
      "            gAAAAABnzs1YumsC6FU3Vmu7bnMWDTmF1_nMdGiJpp40BtOs6b8pjNlOap9wD-tCWjVtlXqIm0S3VMiFRa3a7tzY7yxDJa1jRg==  \n",
      "SOLUCION  1  gAAAAABnzs1YAvfjeoyn4FSPmGjV0KdHZe66UKJmA7oAVb...                                                     \n",
      "\n",
      "\n"
     ]
    }
   ],
   "source": [
    "print(solucion_1)"
   ]
  },
  {
   "cell_type": "code",
   "execution_count": 8,
   "id": "70e32860",
   "metadata": {},
   "outputs": [
    {
     "name": "stdout",
     "output_type": "stream",
     "text": [
      "\n",
      " ===>  Descripción DIR-B casoConSolucion_01.hdf5\n",
      "\n",
      " **** Parámetros del CASO incluido en el DIR-B  ****** \n",
      "encrypted                                                 True\n",
      "password     gAAAAABnzsxbEPFvVQoOF7itnsQQRs-VPgjM1OK7CwMvTs...\n",
      "salt                                          ê4 ²únÍ7qY5²µ»7É\n",
      "x            gAAAAABnzsxbF32nRK_e3pr42QbjBfayvBskC78MDAPBn0...\n",
      "y            gAAAAABnzsxb0rxDS6M-SGxW79gTMUF6mXKR9t2d-4YSn5...\n",
      "\n",
      " **** Atributos del CASO incluido en el DIR-B  ****** \n",
      "Escenario      gAAAAABnzsxb1dLabJbX6r_tXSgW32S5ZAyk_awLMG20At...\n",
      "Numero Caso    gAAAAABnzsxb0QTw1GV111h5BjW_105g4Tu7dYAkPLON1Y...\n",
      "Autor          gAAAAABnzsxbZ0mpFyEovf4FG7_wOli9yT_kIA960RA56_...\n",
      "Dia            gAAAAABnzsxbbzeZFsVEtoB8FjpY2CHzcKtJ-qBUQAg4uZ...\n",
      "\n",
      " **** Parámetros de soluciones incluidas en el DIR-B ******  \n",
      " \n",
      "                                                           ex1  \\\n",
      "SOLUCION  1  gAAAAABnzs1YbpSc0Y3pH4zca2PHUCcLiXLlOrmM_s9hU8...   \n",
      "\n",
      "                                                           ex2  \\\n",
      "SOLUCION  1  gAAAAABnzs1YO6ftv7EJDxoUcCYPyn0XWlSo2VPw3Z5UCg...   \n",
      "\n",
      "                                                           ex3  \n",
      "SOLUCION  1  gAAAAABnzs1Ytpi1qq_lSvPAAcqDmAzwwKeojpmtrrd9cP...   \n",
      "\n",
      " **** Atributos de soluciones incluidas en el DIR-B ******  \n",
      " \n",
      "                                                     Escenario  \\\n",
      "SOLUCION  1  gAAAAABnzs1YIdAWgIZyqEXmV0-Fsb8QCSQnVgCIGobr9a...   \n",
      "\n",
      "                                                         Autor  \\\n",
      "SOLUCION  1  gAAAAABnzs1YJNp04F2PlckNBzwjGx8zi2KwfeQspmzntO...   \n",
      "\n",
      "                                                           Dia  \n",
      "SOLUCION  1  gAAAAABnzs1YAvfjeoyn4FSPmGjV0KdHZe66UKJmA7oAVb...   \n",
      "\n",
      "\n"
     ]
    }
   ],
   "source": [
    "solucion_1.desencriptaClaves()\n",
    "print(solucion_1)"
   ]
  },
  {
   "cell_type": "code",
   "execution_count": 10,
   "id": "bc20dc09",
   "metadata": {},
   "outputs": [
    {
     "name": "stdout",
     "output_type": "stream",
     "text": [
      "La solución se encriptará.\n",
      "\n",
      " ===>  Descripción DIR-B casoConSolucion_01.hdf5\n",
      "\n",
      " **** Parámetros del CASO incluido en el DIR-B  ****** \n",
      "encrypted                                                                                                                                            True\n",
      "password                                                                                                gAAAAABnzsxbEPFvVQoOF7itnsQQRs-VPgjM1OK7CwMvTs...\n",
      "salt                                                                                                                                     ê4 ²únÍ7qY5²µ»7É\n",
      "gAAAAABnzsxbpZQQw9doZ6UWCwfv5oQqR-y0gPQg7sKNFem40dWOFsbGcBtca7TTRU03uaJdGzgi5PFHgXed3IG01FhVYVcLGw==    gAAAAABnzsxbF32nRK_e3pr42QbjBfayvBskC78MDAPBn0...\n",
      "gAAAAABnzsxbikO2XoxuCyBTOJiBtNaa_u1VWIUXMG3-_xXil76_DgVc4zI53oBKcaYrCo3KuF_0U86EI7JaMg7ZJ-e0s70wKA==    gAAAAABnzsxb0rxDS6M-SGxW79gTMUF6mXKR9t2d-4YSn5...\n",
      "\n",
      " **** Atributos del CASO incluido en el DIR-B  ****** \n",
      "gAAAAABnzsxbGw_ATexEt_ODcmvHO9tS7UrHXYKWWopB1Im5tuhpIi0BgB1BA3-2_VcqhXSOfeVQMBaH6NTL92yyLBwtPLGPIg==    gAAAAABnzsxb1dLabJbX6r_tXSgW32S5ZAyk_awLMG20At...\n",
      "gAAAAABnzsxbPXIgCeDZBub64HMAcRS9rNHWGINgCFPyqF9BbBnScQk2qpImS_r1zYgz-YICjLc_tXgY3st8JgKDkiZFlnLeDw==    gAAAAABnzsxb0QTw1GV111h5BjW_105g4Tu7dYAkPLON1Y...\n",
      "gAAAAABnzsxbjEBmjvEqQ6RWmQswcOpMOc7zL-cxanNZWHaXR9uTKgaOejRGcL3QtavLvx6pXoJpJRQ-qJWEnGmsURaiKVxpuA==    gAAAAABnzsxbZ0mpFyEovf4FG7_wOli9yT_kIA960RA56_...\n",
      "gAAAAABnzsxbvxmpI6QM4XCAwWD1qRO7bzSYC_KhwcbWGu4HRBe2bAiJmNoBmHPwbYTgAU3vTXJsNjX__BCY_S4bTRnMYmh6Eg==    gAAAAABnzsxbbzeZFsVEtoB8FjpY2CHzcKtJ-qBUQAg4uZ...\n",
      "\n",
      " **** Parámetros de soluciones incluidas en el DIR-B ******  \n",
      " \n",
      "            gAAAAABnzs1Yfxz2Z3pFMjIztyRcA58DXk0OG8fm7KzUG0HKfsLE_Xkacuc1MQQnSPhC0207_vGJ3JtKAUuPVvrr1xd1l9TwMA==  \\\n",
      "SOLUCION  1  gAAAAABnzs1YbpSc0Y3pH4zca2PHUCcLiXLlOrmM_s9hU8...                                                     \n",
      "SOLUCION  2                                                NaN                                                     \n",
      "\n",
      "            gAAAAABnzs1YMCi75AQe7H3erNx3F1FBkEMCCHOfV5K22JvoUhXZ4PcI4zD9A7snpi-L_YWmGqFOPrYGoeUTEdleb7awiwwL9w==  \\\n",
      "SOLUCION  1  gAAAAABnzs1YO6ftv7EJDxoUcCYPyn0XWlSo2VPw3Z5UCg...                                                     \n",
      "SOLUCION  2                                                NaN                                                     \n",
      "\n",
      "            gAAAAABnzs1YAV-9suvWhgd6Oi6f1ppQnprii8X_VxXhl96xn8prWSrswVUVOyu3jT-cYboZGd9Efb5mcbGPcNFIq0L_W83ryA==  \\\n",
      "SOLUCION  1  gAAAAABnzs1Ytpi1qq_lSvPAAcqDmAzwwKeojpmtrrd9cP...                                                     \n",
      "SOLUCION  2                                                NaN                                                     \n",
      "\n",
      "            gAAAAABnzs3LzhqJxYDKDC0Vl87UkdvvUrtnDzgU6yngP1rDvwRvRLA7RTvPIdg4T8nfKkYpFXs0fhZEQzYmPGHY6A8kF8GpYw==  \\\n",
      "SOLUCION  1                                                NaN                                                     \n",
      "SOLUCION  2  gAAAAABnzs3LwONTUzKM4-2DVKr4OLpYaF1FQfKIGxWXvR...                                                     \n",
      "\n",
      "            gAAAAABnzs3L5vDe5FQUGO-XUkf9jeLdy89cznrIXBAWzQyFlhVnczm5DzY6KMj7soskrHmUGVV2AJLBStP87WA-KxFNDtBvRw==  \n",
      "SOLUCION  1                                                NaN                                                    \n",
      "SOLUCION  2  gAAAAABnzs3LtQT42dJb9ghlmT2f39Iq_R17lxWDmVhobv...                                                     \n",
      "\n",
      " **** Atributos de soluciones incluidas en el DIR-B ******  \n",
      " \n",
      "            gAAAAABnzs1Ybcpqoz0OMJ28ySYieFsMuMmGCXgtuWD2dPiSB1c_KIWa9vsREngkHCmr6oCAxFmsCY4vAn2S8TBE3oO3w1B29w==  \\\n",
      "SOLUCION  1  gAAAAABnzs1YIdAWgIZyqEXmV0-Fsb8QCSQnVgCIGobr9a...                                                     \n",
      "SOLUCION  2                                                NaN                                                     \n",
      "\n",
      "            gAAAAABnzs1YtbossAEnzOg4tN3WxcUcnWNWULPaYR0OKxnyg6Hco3amLVrlCvwYK4fj7od6qOds-SKVBOrE6ogJOFHPlZ9Oeg==  \\\n",
      "SOLUCION  1  gAAAAABnzs1YJNp04F2PlckNBzwjGx8zi2KwfeQspmzntO...                                                     \n",
      "SOLUCION  2                                                NaN                                                     \n",
      "\n",
      "            gAAAAABnzs1YumsC6FU3Vmu7bnMWDTmF1_nMdGiJpp40BtOs6b8pjNlOap9wD-tCWjVtlXqIm0S3VMiFRa3a7tzY7yxDJa1jRg==  \\\n",
      "SOLUCION  1  gAAAAABnzs1YAvfjeoyn4FSPmGjV0KdHZe66UKJmA7oAVb...                                                     \n",
      "SOLUCION  2                                                NaN                                                     \n",
      "\n",
      "            gAAAAABnzs3LAIzqDx3ErrOCoLwgxgn8XHfvWBH0qiunoWymLPoxFpWbIP0Cgp3QD2m8tbZR5xCnuJO0Vjjhihd8z5Xts8mRQQ==  \\\n",
      "SOLUCION  1                                                NaN                                                     \n",
      "SOLUCION  2  gAAAAABnzs3LMsqB_j9SqqHK-BIa2LOjSweZT79SIILjW0...                                                     \n",
      "\n",
      "            gAAAAABnzs3LIsjlTSC6xgWc0W7T_tjvAsQ5eMjUB5FOLOCrX_VmExbdHyp4G7xWqjdu0d00DiUJJUBbcc67-5NAbluMrplV9g==  \\\n",
      "SOLUCION  1                                                NaN                                                     \n",
      "SOLUCION  2  gAAAAABnzs3L2DP50mLI-4UavhEiRk_lc1f46p23TFU3Qs...                                                     \n",
      "\n",
      "            gAAAAABnzs3LVDURftx19HOkf3oBmQr-5pWYAlMCEgTp_h6ngvpatpJwH-akUeGeN_TlCQ3nrLWGHTfU_ysUPzpA7jcQDasrSQ==  \\\n",
      "SOLUCION  1                                                NaN                                                     \n",
      "SOLUCION  2  gAAAAABnzs3L3N72y5V_fk4g22-qrrTqNvwxD2VJuyg0f4...                                                     \n",
      "\n",
      "            gAAAAABnzs3LtiwAaXflhdrEhvKIUrSFH4BexUHNfAv8gWVUvk5conpttYbHQjv-r5a41xDZmpwukQJICRqOmnxt51FO0m5z5g==  \\\n",
      "SOLUCION  1                                                NaN                                                     \n",
      "SOLUCION  2  gAAAAABnzs3LsRpPAkA8LaG-XYDHbL8NhLVK1u5HdBbSfG...                                                     \n",
      "\n",
      "            gAAAAABnzs3LzbqeH62uqTJaiC70itUnZJOt18qZGjMqGfQvlOd9Hc7fu3rPV1aTq8WhszAsMcYDcP8gSssMsFrvdmduzM-bjg==  \n",
      "SOLUCION  1                                                NaN                                                    \n",
      "SOLUCION  2  gAAAAABnzs3Lv6x0lt2-W-ZT_VWqgyBPZ1hZ-uJZHws79G...                                                     \n",
      "\n",
      "\n"
     ]
    }
   ],
   "source": [
    "diccionarioSolucionCaso_2 = {'48': 4.0,\n",
    "                             '4': 48.2}\n",
    "diccionarioAtributosSolucionCaso_2 = {\n",
    "                            'Institución': \"BSC\",\n",
    "                            'Case Name': 'CASO 3',\n",
    "                            'Autores': 'RC01334',\n",
    "                            'Date': '10-09-2018',\n",
    "                            'Numero Caso': 23\n",
    "                            }\n",
    "\n",
    "solucion_1.guardaNuevaSolucion(diccionarioSolucionCaso_2, diccionarioAtributosSolucionCaso_2)\n",
    "print(solucion_1)"
   ]
  },
  {
   "cell_type": "code",
   "execution_count": 12,
   "id": "f86d6e39",
   "metadata": {},
   "outputs": [
    {
     "name": "stdout",
     "output_type": "stream",
     "text": [
      "\n",
      " ===>  Descripción DIR-B casoConSolucion_01.hdf5\n",
      "\n",
      " **** Parámetros del CASO incluido en el DIR-B  ****** \n",
      "encrypted                                                 True\n",
      "password     gAAAAABnzsxbEPFvVQoOF7itnsQQRs-VPgjM1OK7CwMvTs...\n",
      "salt                                          ê4 ²únÍ7qY5²µ»7É\n",
      "x            gAAAAABnzsxbF32nRK_e3pr42QbjBfayvBskC78MDAPBn0...\n",
      "y            gAAAAABnzsxb0rxDS6M-SGxW79gTMUF6mXKR9t2d-4YSn5...\n",
      "\n",
      " **** Atributos del CASO incluido en el DIR-B  ****** \n",
      "Escenario      gAAAAABnzsxb1dLabJbX6r_tXSgW32S5ZAyk_awLMG20At...\n",
      "Numero Caso    gAAAAABnzsxb0QTw1GV111h5BjW_105g4Tu7dYAkPLON1Y...\n",
      "Autor          gAAAAABnzsxbZ0mpFyEovf4FG7_wOli9yT_kIA960RA56_...\n",
      "Dia            gAAAAABnzsxbbzeZFsVEtoB8FjpY2CHzcKtJ-qBUQAg4uZ...\n",
      "\n",
      " **** Parámetros de soluciones incluidas en el DIR-B ******  \n",
      " \n",
      "                                                           ex1  \\\n",
      "SOLUCION  1  gAAAAABnzs1YbpSc0Y3pH4zca2PHUCcLiXLlOrmM_s9hU8...   \n",
      "SOLUCION  2                                                NaN   \n",
      "\n",
      "                                                           ex2  \\\n",
      "SOLUCION  1  gAAAAABnzs1YO6ftv7EJDxoUcCYPyn0XWlSo2VPw3Z5UCg...   \n",
      "SOLUCION  2                                                NaN   \n",
      "\n",
      "                                                           ex3  \\\n",
      "SOLUCION  1  gAAAAABnzs1Ytpi1qq_lSvPAAcqDmAzwwKeojpmtrrd9cP...   \n",
      "SOLUCION  2                                                NaN   \n",
      "\n",
      "                                                            48  \\\n",
      "SOLUCION  1                                                NaN   \n",
      "SOLUCION  2  gAAAAABnzs3LwONTUzKM4-2DVKr4OLpYaF1FQfKIGxWXvR...   \n",
      "\n",
      "                                                             4  \n",
      "SOLUCION  1                                                NaN  \n",
      "SOLUCION  2  gAAAAABnzs3LtQT42dJb9ghlmT2f39Iq_R17lxWDmVhobv...   \n",
      "\n",
      " **** Atributos de soluciones incluidas en el DIR-B ******  \n",
      " \n",
      "                                                     Escenario  \\\n",
      "SOLUCION  1  gAAAAABnzs1YIdAWgIZyqEXmV0-Fsb8QCSQnVgCIGobr9a...   \n",
      "SOLUCION  2                                                NaN   \n",
      "\n",
      "                                                         Autor  \\\n",
      "SOLUCION  1  gAAAAABnzs1YJNp04F2PlckNBzwjGx8zi2KwfeQspmzntO...   \n",
      "SOLUCION  2                                                NaN   \n",
      "\n",
      "                                                           Dia  \\\n",
      "SOLUCION  1  gAAAAABnzs1YAvfjeoyn4FSPmGjV0KdHZe66UKJmA7oAVb...   \n",
      "SOLUCION  2                                                NaN   \n",
      "\n",
      "                                                   Numero Caso  \\\n",
      "SOLUCION  1                                                NaN   \n",
      "SOLUCION  2  gAAAAABnzs3LMsqB_j9SqqHK-BIa2LOjSweZT79SIILjW0...   \n",
      "\n",
      "                                                          Date  \\\n",
      "SOLUCION  1                                                NaN   \n",
      "SOLUCION  2  gAAAAABnzs3L2DP50mLI-4UavhEiRk_lc1f46p23TFU3Qs...   \n",
      "\n",
      "                                                       Autores  \\\n",
      "SOLUCION  1                                                NaN   \n",
      "SOLUCION  2  gAAAAABnzs3L3N72y5V_fk4g22-qrrTqNvwxD2VJuyg0f4...   \n",
      "\n",
      "                                                     Case Name  \\\n",
      "SOLUCION  1                                                NaN   \n",
      "SOLUCION  2  gAAAAABnzs3LsRpPAkA8LaG-XYDHbL8NhLVK1u5HdBbSfG...   \n",
      "\n",
      "                                                   Institución  \n",
      "SOLUCION  1                                                NaN  \n",
      "SOLUCION  2  gAAAAABnzs3Lv6x0lt2-W-ZT_VWqgyBPZ1hZ-uJZHws79G...   \n",
      "\n",
      "\n"
     ]
    }
   ],
   "source": [
    "# Se necesitan desencriptar las claves cada vez que se guarda una solución nueva:\n",
    "solucion_1.desencriptaClaves()\n",
    "print(solucion_1)"
   ]
  },
  {
   "cell_type": "code",
   "execution_count": 13,
   "id": "36c366fa",
   "metadata": {},
   "outputs": [
    {
     "data": {
      "text/plain": [
       "'2025-03-10 12:30:29.510180'"
      ]
     },
     "execution_count": 13,
     "metadata": {},
     "output_type": "execute_result"
    }
   ],
   "source": [
    "solucion_1.desencriptaCampo_AttrsSolucion(\"1\", \"Dia\")"
   ]
  },
  {
   "cell_type": "code",
   "execution_count": 14,
   "id": "71f8da63",
   "metadata": {},
   "outputs": [
    {
     "data": {
      "text/plain": [
       "'48.2'"
      ]
     },
     "execution_count": 14,
     "metadata": {},
     "output_type": "execute_result"
    }
   ],
   "source": [
    "solucion_1.desencriptaCampo_ParamSolucion(\"2\", \"4\")"
   ]
  },
  {
   "cell_type": "markdown",
   "id": "5af41f6d",
   "metadata": {},
   "source": [
    "# Create remaining solutions"
   ]
  },
  {
   "cell_type": "code",
   "execution_count": null,
   "id": "c699f165",
   "metadata": {},
   "outputs": [],
   "source": [
    "diccionarioSolucionCaso_2 = {'48': 4.0,\n",
    "                             '4': 48.2}\n",
    "diccionarioSolucionCaso_3 = {'param1': 'p1',\n",
    "                             'param2': 'p2',\n",
    "                             'param3': 'p3',\n",
    "                             'param4': 'p4',\n",
    "                             'param5': 'p5'\n",
    "                            }\n",
    "diccionarioSolucionCaso_4 = {'xx': \"xy\"}\n",
    "diccionarioSolucionCaso_5 = {'parametro1': 3.14156,\n",
    "                             'parametro2': 9.5,\n",
    "                             'parametro3': \"AAXX\"}\n",
    "diccionarioSolucionCaso_6 = {'Carpenter Brut': [\"Roller Mobster\", \"Disco Zombi Italia\"],\n",
    "                             'Vacations': ['Days', 'Day Dreaming', 'No Fun', 'Away']}\n",
    "diccionarioSolucionCaso_7 = {'asdf': 1234,\n",
    "                             'qwer': '0000',\n",
    "                             'zxcv': True}\n",
    "\n",
    "\n",
    "diccionarioAtributosSolucionCaso_3 = {\n",
    "                            'id': 1,\n",
    "                            }\n",
    "diccionarioAtributosSolucionCaso_4 = {\n",
    "                            'Autor-id-scenario-fecha': 'bsc-1-cuco-04-03-2022'\n",
    "                            }\n",
    "diccionarioAtributosSolucionCaso_5 = {\n",
    "                            }\n",
    "diccionarioAtributosSolucionCaso_6 = {\n",
    "                            'Institución': \"Repsol\",\n",
    "                            'Case Name': \"CASO 3\",\n",
    "                            'Autor-id-scenario-fecha': 'repsol-1-cuco-04-03-2022',\n",
    "                            'a': 'b',\n",
    "                            'c': 'd',\n",
    "                            'e': 'f',\n",
    "                            'g': 'h',\n",
    "                            'i': 'j',\n",
    "                            'k': 'l',\n",
    "                            'm': 'n',\n",
    "                            'o': 'p'\n",
    "                            }\n",
    "diccionarioAtributosSolucionCaso_7 = {\n",
    "                            'Institución': \"\",\n",
    "                            'Fecha':  str(date.today()),\n",
    "                            'Completado': True,\n",
    "                            'Numero Caso': 24\n",
    "                            }\n",
    "\n",
    "\n",
    "shutil.copy(\"casoBase.hdf5\", \"casoConSolucion_02.hdf5\")\n",
    "time.sleep(2)    # Really necessary?\n",
    "\n",
    "solucion_2 = zsan_DirB()\n",
    "solucion_2.cargaCaso(\"casoConSolucion_02.hdf5\")\n",
    "solucion_2.guardaNuevaSolucion(diccionarioSolucionCaso_2, diccionarioAtributosSolucionCaso_2)\n",
    "\n",
    "shutil.copy(\"casoBase.hdf5\", \"casoConSolucion_03.hdf5\")\n",
    "time.sleep(2)    # Really necessary?\n",
    "\n",
    "solucion_3 = zsan_DirB(\"asdf\")\n",
    "solucion_3.cargaCaso(\"casoConSolucion_03.hdf5\")\n",
    "solucion_3.guardaNuevasSoluciones([diccionarioSolucionCaso_3, diccionarioSolucionCaso_4], [diccionarioAtributosSolucionCaso_3, diccionarioAtributosSolucionCaso_4])\n",
    "\n",
    "\n",
    "shutil.copy(\"casoBase.hdf5\", \"casoConSolucion_05.hdf5\")\n",
    "time.sleep(2)    # Really necessary?\n",
    "\n",
    "solucion_5 = zsan_DirB()\n",
    "solucion_5.cargaCaso(\"casoConSolucion_05.hdf5\")\n",
    "solucion_5.guardaNuevaSolucion(diccionarioSolucionCaso_5, diccionarioAtributosSolucionCaso_5)\n",
    "\n",
    "\n",
    "shutil.copy(\"casoBase.hdf5\", \"casoConSolucion_06.hdf5\")\n",
    "time.sleep(2)    # Really necessary?\n",
    "\n",
    "solucion_6 = zsan_DirB()\n",
    "solucion_6.cargaCaso(\"casoConSolucion_06.hdf5\")\n",
    "solucion_6.guardaNuevasSoluciones([diccionarioSolucionCaso_6, diccionarioSolucionCaso_7], [diccionarioAtributosSolucionCaso_6, diccionarioAtributosSolucionCaso_7])"
   ]
  },
  {
   "cell_type": "code",
   "execution_count": null,
   "id": "d651be73",
   "metadata": {},
   "outputs": [],
   "source": [
    "print(solucion_3)"
   ]
  },
  {
   "cell_type": "code",
   "execution_count": null,
   "id": "6c2bbd98",
   "metadata": {},
   "outputs": [],
   "source": [
    "solucion_3.desencriptaClaves()"
   ]
  },
  {
   "cell_type": "code",
   "execution_count": null,
   "id": "f174cbbc",
   "metadata": {},
   "outputs": [],
   "source": [
    "from dirB.merge import mergeListaDeSoluciones\n",
    "\n",
    "casoBase = 'casoBase.hdf5'\n",
    "listaDeCasos = ['casoConSolucion_01.hdf5', 'casoConSolucion_02.hdf5', 'casoConSolucion_03.hdf5',\n",
    "                'casoConSolucion_05.hdf5', 'casoConSolucion_06.hdf5']\n",
    "id_salida = \"salida.hdf5\"\n",
    "\n",
    "mergedList = mergeListaDeSoluciones(casoBase, listaDeCasos, id_salida)"
   ]
  },
  {
   "cell_type": "code",
   "execution_count": null,
   "id": "ba6eaf49",
   "metadata": {},
   "outputs": [],
   "source": [
    "print(\"Visualizar resultado en '\" + mergedList.fullPath + \"' con hdf5view, p.ej.'\")"
   ]
  },
  {
   "cell_type": "code",
   "execution_count": null,
   "id": "e96d6aa5",
   "metadata": {},
   "outputs": [],
   "source": [
    "mergedDirB = zsan_DirB()\n",
    "mergedDirB.cargaCaso(\"salida.hdf5\")"
   ]
  },
  {
   "cell_type": "code",
   "execution_count": null,
   "id": "2ee9c7f9",
   "metadata": {},
   "outputs": [],
   "source": [
    "mergedDirB.listaSolucionesQueTienenDeterminadoAtributo(\"Autores\")"
   ]
  },
  {
   "cell_type": "code",
   "execution_count": null,
   "id": "f80c1c98",
   "metadata": {},
   "outputs": [],
   "source": [
    "mergedDirB.atributosDeUnaSolucion(7)"
   ]
  },
  {
   "cell_type": "code",
   "execution_count": null,
   "id": "320f2118",
   "metadata": {},
   "outputs": [],
   "source": [
    "mergedDirB.solucionesQueTienenUnValorEntreSusAtributos(1)"
   ]
  },
  {
   "cell_type": "code",
   "execution_count": null,
   "id": "547750e5",
   "metadata": {},
   "outputs": [],
   "source": [
    "print(mergedDirB.siUnaSolucionTieneUnAtributo(2, \"Date\"))\n",
    "print(mergedDirB.siUnaSolucionTieneUnAtributo(2, \"Fecha\"))"
   ]
  },
  {
   "cell_type": "code",
   "execution_count": null,
   "id": "8557f708",
   "metadata": {},
   "outputs": [],
   "source": [
    "soluciones = mergedDirB.solucionesQueTieneUnAtributoEnUnaListaPosiblesValores(\"Case Name\", [\"CASO 3\"])\n",
    "print(soluciones)"
   ]
  },
  {
   "cell_type": "code",
   "execution_count": null,
   "id": "67bda212",
   "metadata": {},
   "outputs": [],
   "source": [
    "for s in soluciones:\n",
    "    print(\"Solución \" + str(s[0]) + \":\")\n",
    "    print(''.join(['\\t{0} {1}\\n'.format(k, v) for k, v in mergedDirB.atributosDeUnaSolucion(s[0]).items()]))"
   ]
  }
 ],
 "metadata": {
  "kernelspec": {
   "display_name": "dirB_env",
   "language": "python",
   "name": "python3"
  },
  "language_info": {
   "codemirror_mode": {
    "name": "ipython",
    "version": 3
   },
   "file_extension": ".py",
   "mimetype": "text/x-python",
   "name": "python",
   "nbconvert_exporter": "python",
   "pygments_lexer": "ipython3",
   "version": "3.11.11"
  }
 },
 "nbformat": 4,
 "nbformat_minor": 5
}
