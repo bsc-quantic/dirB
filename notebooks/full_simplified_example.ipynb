{
 "cells": [
  {
   "cell_type": "code",
   "execution_count": 1,
   "id": "11206b76",
   "metadata": {},
   "outputs": [],
   "source": [
    "import os\n",
    "os.chdir(\"..\")\n",
    "\n",
    "from dirB.base import zsan_DirB\n",
    "from datetime import date, datetime\n",
    "import time\n",
    "import shutil"
   ]
  },
  {
   "cell_type": "markdown",
   "id": "c1b313d6",
   "metadata": {},
   "source": [
    "# Create base case"
   ]
  },
  {
   "cell_type": "code",
   "execution_count": 2,
   "id": "4d259cbc",
   "metadata": {},
   "outputs": [
    {
     "name": "stdout",
     "output_type": "stream",
     "text": [
      "Todos los datos leídos/escritos con esta instancia se encriptarán con la clave proporcionada.\n"
     ]
    }
   ],
   "source": [
    "diccionarioCasoBase = { 'x': 12,\n",
    "                        'y': 7}\n",
    "diccionarioAtributosCasoBase = {\n",
    "                        'Autor': 'RC01334',\n",
    "                        'Dia':  str(date.today()),\n",
    "                        'Escenario': 'Acido',\n",
    "                        'Numero Caso': 23\n",
    "                        }\n",
    "\n",
    "casoBase = zsan_DirB(\"hyasdyfas56_5%.-·asdf\")\n",
    "casoBase.creaNuevoCaso(diccionarioCasoBase, diccionarioAtributosCasoBase, nombreDeFichero = \"casoBase.hdf5\")"
   ]
  },
  {
   "cell_type": "code",
   "execution_count": 3,
   "id": "33d82cfc",
   "metadata": {},
   "outputs": [
    {
     "name": "stdout",
     "output_type": "stream",
     "text": [
      "\n",
      " ===>  Descripción DIR-B casoBase.hdf5\n",
      "\n",
      " **** Parámetros del CASO incluido en el DIR-B  ****** \n",
      "encrypted                                                                                                                                               1\n",
      "gAAAAABnpMIgs77wtzCGlLcCv9IoBJzetL_hBOLjZsO5d_dzmF9HuzeFHGsJHVqJAV9pZ1gjL72jiQQwzcWktfd_6IwaQ-xVAw==    gAAAAABnpMIgqo2sUnRCSo78k1GJfcX7i1_ear9pRQ7Ud2...\n",
      "gAAAAABnpMIg_CA0bvmGGcCRtiGhPRKyptWxD8PpSc-ABImX1V3G0UCRpaRDZ5JZqSgpnMXFwlVVVBXBn5NUs_eM3Ow1vo8CVQ==    gAAAAABnpMIgzQY-GFc5fgAAwecRG9SxMLSrEog8r1hKyR...\n",
      "\n",
      " **** Atributos del CASO incluido en el DIR-B  ****** \n",
      "Autor             RC01334\n",
      "Dia            2025-02-06\n",
      "Escenario           Acido\n",
      "Numero Caso            23\n",
      "\n",
      " **** Aún no se han cargado soluciones en el DIR-B ******  \n",
      "\n",
      "\n"
     ]
    }
   ],
   "source": [
    "print(casoBase)"
   ]
  },
  {
   "cell_type": "markdown",
   "id": "ff831ce5",
   "metadata": {},
   "source": [
    "# Create a solution file to add to the base case\n",
    "This is what a user will do: copy the base file and add their new solution parameters"
   ]
  },
  {
   "cell_type": "code",
   "execution_count": 4,
   "id": "2fca5001",
   "metadata": {},
   "outputs": [
    {
     "name": "stdout",
     "output_type": "stream",
     "text": [
      "El fichero casoConSolucion_01.hdf5 contiene campos encriptados pero ninguna clave fue proporcionada para los mismos.\n"
     ]
    }
   ],
   "source": [
    "diccionarioSolucionCaso_1 = {'ex1': 'xxx',\n",
    "                             'ex2': 'yyy',\n",
    "                             'ex3': 'zzz'}\n",
    "diccionarioAtributosSolucionCaso_1 = {\n",
    "                            'Autor': 'BSC0123',\n",
    "                            'Dia':  str(datetime.now()),\n",
    "                            'Escenario': 'Amargo',\n",
    "                            }\n",
    "\n",
    "shutil.copy(\"casoBase.hdf5\", \"casoConSolucion_01.hdf5\")\n",
    "time.sleep(2)    # Really necessary?\n",
    "\n",
    "solucion_1 = zsan_DirB()\n",
    "solucion_1.cargaCaso(\"casoConSolucion_01.hdf5\")\n",
    "solucion_1.guardaNuevaSolucion(diccionarioSolucionCaso_1, diccionarioAtributosSolucionCaso_1)"
   ]
  },
  {
   "cell_type": "code",
   "execution_count": 5,
   "id": "36c366fa",
   "metadata": {},
   "outputs": [
    {
     "name": "stdout",
     "output_type": "stream",
     "text": [
      "\n",
      " ===>  Descripción DIR-B casoConSolucion_01.hdf5\n",
      "\n",
      " **** Parámetros del CASO incluido en el DIR-B  ****** \n",
      "encrypted                                                                                                                                               1\n",
      "gAAAAABnpMIgs77wtzCGlLcCv9IoBJzetL_hBOLjZsO5d_dzmF9HuzeFHGsJHVqJAV9pZ1gjL72jiQQwzcWktfd_6IwaQ-xVAw==    gAAAAABnpMIgqo2sUnRCSo78k1GJfcX7i1_ear9pRQ7Ud2...\n",
      "gAAAAABnpMIg_CA0bvmGGcCRtiGhPRKyptWxD8PpSc-ABImX1V3G0UCRpaRDZ5JZqSgpnMXFwlVVVBXBn5NUs_eM3Ow1vo8CVQ==    gAAAAABnpMIgzQY-GFc5fgAAwecRG9SxMLSrEog8r1hKyR...\n",
      "\n",
      " **** Atributos del CASO incluido en el DIR-B  ****** \n",
      "Autor             RC01334\n",
      "Dia            2025-02-06\n",
      "Escenario           Acido\n",
      "Numero Caso            23\n",
      "\n",
      " **** Atributos de soluciones incluidas en el DIR-B ******  \n",
      " \n",
      "               Autor                         Dia Escenario\n",
      "SOLUCION  1  BSC0123  2025-02-06 15:07:35.870377    Amargo \n",
      "\n",
      "\n"
     ]
    }
   ],
   "source": [
    "print(solucion_1)"
   ]
  },
  {
   "cell_type": "markdown",
   "id": "5af41f6d",
   "metadata": {},
   "source": [
    "# Create remainging solutions"
   ]
  },
  {
   "cell_type": "code",
   "execution_count": 7,
   "id": "c699f165",
   "metadata": {},
   "outputs": [
    {
     "name": "stdout",
     "output_type": "stream",
     "text": [
      "El fichero casoConSolucion_02.hdf5 contiene campos encriptados pero ninguna clave fue proporcionada para los mismos.\n",
      "El fichero casoConSolucion_03.hdf5 contiene campos encriptados pero ninguna clave fue proporcionada para los mismos.\n",
      "El fichero casoConSolucion_05.hdf5 contiene campos encriptados pero ninguna clave fue proporcionada para los mismos.\n",
      "El fichero casoConSolucion_06.hdf5 contiene campos encriptados pero ninguna clave fue proporcionada para los mismos.\n"
     ]
    }
   ],
   "source": [
    "diccionarioSolucionCaso_2 = {'48': 4.0,\n",
    "                             '4': 48.2}\n",
    "diccionarioSolucionCaso_3 = {'param1': 'p1',\n",
    "                             'param2': 'p2',\n",
    "                             'param3': 'p3',\n",
    "                             'param4': 'p4',\n",
    "                             'param5': 'p5'\n",
    "                            }\n",
    "diccionarioSolucionCaso_4 = {'xx': \"xy\"}\n",
    "diccionarioSolucionCaso_5 = {'parametro1': 3.14156,\n",
    "                             'parametro2': 9.5,\n",
    "                             'parametro3': \"AAXX\"}\n",
    "diccionarioSolucionCaso_6 = {'Carpenter Brut': [\"Roller Mobster\", \"Disco Zombi Italia\"],\n",
    "                             'Vacations': ['Days', 'Day Dreaming', 'No Fun', 'Away']}\n",
    "diccionarioSolucionCaso_7 = {'asdf': 1234,\n",
    "                             'qwer': '0000',\n",
    "                             'zxcv': True}\n",
    "\n",
    "diccionarioAtributosSolucionCaso_2 = {\n",
    "                            'Institución': \"BSC\",\n",
    "                            'Case Name': 'CASO 3',\n",
    "                            'Autores': 'RC01334',\n",
    "                            'Date': '10-09-2018',\n",
    "                            'Numero Caso': 23\n",
    "                            }\n",
    "diccionarioAtributosSolucionCaso_3 = {\n",
    "                            'id': 1,\n",
    "                            }\n",
    "diccionarioAtributosSolucionCaso_4 = {\n",
    "                            'Autor-id-scenario-fecha': 'bsc-1-cuco-04-03-2022'\n",
    "                            }\n",
    "diccionarioAtributosSolucionCaso_5 = {\n",
    "                            }\n",
    "diccionarioAtributosSolucionCaso_6 = {\n",
    "                            'Institución': \"Repsol\",\n",
    "                            'Case Name': \"CASO 3\",\n",
    "                            'Autor-id-scenario-fecha': 'repsol-1-cuco-04-03-2022',\n",
    "                            'a': 'b',\n",
    "                            'c': 'd',\n",
    "                            'e': 'f',\n",
    "                            'g': 'h',\n",
    "                            'i': 'j',\n",
    "                            'k': 'l',\n",
    "                            'm': 'n',\n",
    "                            'o': 'p'\n",
    "                            }\n",
    "diccionarioAtributosSolucionCaso_7 = {\n",
    "                            'Institución': \"\",\n",
    "                            'Fecha':  str(date.today()),\n",
    "                            'Completado': True,\n",
    "                            'Numero Caso': 24\n",
    "                            }\n",
    "\n",
    "\n",
    "shutil.copy(\"casoBase.hdf5\", \"casoConSolucion_02.hdf5\")\n",
    "time.sleep(2)    # Really necessary?\n",
    "\n",
    "solucion_2 = zsan_DirB()\n",
    "solucion_2.cargaCaso(\"casoConSolucion_02.hdf5\")\n",
    "solucion_2.guardaNuevaSolucion(diccionarioSolucionCaso_2, diccionarioAtributosSolucionCaso_2)\n",
    "\n",
    "shutil.copy(\"casoBase.hdf5\", \"casoConSolucion_03.hdf5\")\n",
    "time.sleep(2)    # Really necessary?\n",
    "\n",
    "solucion_3 = zsan_DirB()\n",
    "solucion_3.cargaCaso(\"casoConSolucion_03.hdf5\")\n",
    "solucion_3.guardaNuevasSoluciones([diccionarioSolucionCaso_3, diccionarioSolucionCaso_4], [diccionarioAtributosSolucionCaso_3, diccionarioAtributosSolucionCaso_4])\n",
    "\n",
    "\n",
    "shutil.copy(\"casoBase.hdf5\", \"casoConSolucion_05.hdf5\")\n",
    "time.sleep(2)    # Really necessary?\n",
    "\n",
    "solucion_5 = zsan_DirB()\n",
    "solucion_5.cargaCaso(\"casoConSolucion_05.hdf5\")\n",
    "solucion_5.guardaNuevaSolucion(diccionarioSolucionCaso_5, diccionarioAtributosSolucionCaso_5)\n",
    "\n",
    "\n",
    "shutil.copy(\"casoBase.hdf5\", \"casoConSolucion_06.hdf5\")\n",
    "time.sleep(2)    # Really necessary?\n",
    "\n",
    "solucion_6 = zsan_DirB()\n",
    "solucion_6.cargaCaso(\"casoConSolucion_06.hdf5\")\n",
    "solucion_6.guardaNuevasSoluciones([diccionarioSolucionCaso_6, diccionarioSolucionCaso_7], [diccionarioAtributosSolucionCaso_6, diccionarioAtributosSolucionCaso_7])"
   ]
  },
  {
   "cell_type": "code",
   "execution_count": 11,
   "id": "d651be73",
   "metadata": {},
   "outputs": [
    {
     "name": "stdout",
     "output_type": "stream",
     "text": [
      "\n",
      " ===>  Descripción DIR-B casoConSolucion_06.hdf5\n",
      "\n",
      " **** Parámetros del CASO incluido en el DIR-B  ****** \n",
      "encrypted                                                                                                                                               1\n",
      "gAAAAABnpMIgs77wtzCGlLcCv9IoBJzetL_hBOLjZsO5d_dzmF9HuzeFHGsJHVqJAV9pZ1gjL72jiQQwzcWktfd_6IwaQ-xVAw==    gAAAAABnpMIgqo2sUnRCSo78k1GJfcX7i1_ear9pRQ7Ud2...\n",
      "gAAAAABnpMIg_CA0bvmGGcCRtiGhPRKyptWxD8PpSc-ABImX1V3G0UCRpaRDZ5JZqSgpnMXFwlVVVBXBn5NUs_eM3Ow1vo8CVQ==    gAAAAABnpMIgzQY-GFc5fgAAwecRG9SxMLSrEog8r1hKyR...\n",
      "\n",
      " **** Atributos del CASO incluido en el DIR-B  ****** \n",
      "Autor             RC01334\n",
      "Dia            2025-02-06\n",
      "Escenario           Acido\n",
      "Numero Caso            23\n",
      "\n",
      " **** Atributos de soluciones incluidas en el DIR-B ******  \n",
      " \n",
      "              Autor-id-scenario-fecha Case Name Institución    a    c    e  \\\n",
      "SOLUCION  1  repsol-1-cuco-04-03-2022    CASO 3      Repsol    b    d    f   \n",
      "SOLUCION  2                       NaN       NaN              NaN  NaN  NaN   \n",
      "\n",
      "               g    i    k    m    o Completado       Fecha  Numero Caso  \n",
      "SOLUCION  1    h    j    l    n    p        NaN         NaN          NaN  \n",
      "SOLUCION  2  NaN  NaN  NaN  NaN  NaN       True  2025-02-06         24.0   \n",
      "\n",
      "\n"
     ]
    }
   ],
   "source": [
    "print(solucion_6)"
   ]
  },
  {
   "cell_type": "code",
   "execution_count": 5,
   "id": "f174cbbc",
   "metadata": {},
   "outputs": [],
   "source": [
    "from dirB.merge import mergeListaDeSoluciones\n",
    "\n",
    "casoBase = 'casoBase.hdf5'\n",
    "listaDeCasos = ['casoConSolucion_01.hdf5', 'casoConSolucion_02.hdf5', 'casoConSolucion_03.hdf5',\n",
    "                'casoConSolucion_05.hdf5', 'casoConSolucion_06.hdf5']\n",
    "id_salida = \"salida.hdf5\"\n",
    "\n",
    "mergedList = mergeListaDeSoluciones(casoBase, listaDeCasos, id_salida)"
   ]
  },
  {
   "cell_type": "code",
   "execution_count": null,
   "id": "ba6eaf49",
   "metadata": {},
   "outputs": [],
   "source": [
    "print(\"Visualizar resultado en '\" + mergedList.fullPath + \"' con hdf5view, p.ej.'\")"
   ]
  },
  {
   "cell_type": "code",
   "execution_count": 2,
   "id": "e96d6aa5",
   "metadata": {},
   "outputs": [],
   "source": [
    "mergedDirB = zsan_DirB()\n",
    "mergedDirB.cargaCaso(\"salida.hdf5\")"
   ]
  },
  {
   "cell_type": "code",
   "execution_count": null,
   "id": "2ee9c7f9",
   "metadata": {},
   "outputs": [],
   "source": [
    "mergedDirB.listaSolucionesQueTienenDeterminadoAtributo(\"Autores\")"
   ]
  },
  {
   "cell_type": "code",
   "execution_count": null,
   "id": "f80c1c98",
   "metadata": {},
   "outputs": [],
   "source": [
    "mergedDirB.atributosDeUnaSolucion(7)"
   ]
  },
  {
   "cell_type": "code",
   "execution_count": null,
   "id": "320f2118",
   "metadata": {},
   "outputs": [],
   "source": [
    "mergedDirB.solucionesQueTienenUnValorEntreSusAtributos(1)"
   ]
  },
  {
   "cell_type": "code",
   "execution_count": null,
   "id": "547750e5",
   "metadata": {},
   "outputs": [],
   "source": [
    "print(mergedDirB.siUnaSolucionTieneUnAtributo(2, \"Date\"))\n",
    "print(mergedDirB.siUnaSolucionTieneUnAtributo(2, \"Fecha\"))"
   ]
  },
  {
   "cell_type": "code",
   "execution_count": null,
   "id": "8557f708",
   "metadata": {},
   "outputs": [],
   "source": [
    "soluciones = mergedDirB.solucionesQueTieneUnAtributoEnUnaListaPosiblesValores(\"Case Name\", [\"CASO 3\"])\n",
    "print(soluciones)"
   ]
  },
  {
   "cell_type": "code",
   "execution_count": null,
   "id": "67bda212",
   "metadata": {},
   "outputs": [],
   "source": [
    "for s in soluciones:\n",
    "    print(\"Solución \" + str(s[0]) + \":\")\n",
    "    print(''.join(['\\t{0} {1}\\n'.format(k, v) for k, v in mergedDirB.atributosDeUnaSolucion(s[0]).items()]))"
   ]
  }
 ],
 "metadata": {
  "kernelspec": {
   "display_name": "dirB_env",
   "language": "python",
   "name": "python3"
  },
  "language_info": {
   "codemirror_mode": {
    "name": "ipython",
    "version": 3
   },
   "file_extension": ".py",
   "mimetype": "text/x-python",
   "name": "python",
   "nbconvert_exporter": "python",
   "pygments_lexer": "ipython3",
   "version": "3.11.11"
  }
 },
 "nbformat": 4,
 "nbformat_minor": 5
}
