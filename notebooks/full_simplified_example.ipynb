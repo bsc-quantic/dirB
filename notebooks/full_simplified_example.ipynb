{
 "cells": [
  {
   "cell_type": "code",
   "execution_count": 1,
   "id": "11206b76",
   "metadata": {},
   "outputs": [],
   "source": [
    "import os\n",
    "os.chdir(\"..\")\n",
    "\n",
    "from dirB.base import zsan_DirB\n",
    "from datetime import date, datetime\n",
    "import time\n",
    "import shutil"
   ]
  },
  {
   "cell_type": "markdown",
   "id": "c1b313d6",
   "metadata": {},
   "source": [
    "# Create base case"
   ]
  },
  {
   "cell_type": "code",
   "execution_count": 2,
   "id": "4d259cbc",
   "metadata": {},
   "outputs": [
    {
     "name": "stdout",
     "output_type": "stream",
     "text": [
      "Creando dirB en /mnt/c/Users/gnavarr2/Documents/Work/dirB/casoBase.hdf5...\n"
     ]
    }
   ],
   "source": [
    "diccionarioCasoBase = { 'x': 12,\n",
    "                        'y': 7}\n",
    "diccionarioAtributosCasoBase = {\n",
    "                        'Autor': 'RC01334',\n",
    "                        'Dia':  str(date.today()),\n",
    "                        'Escenario': 'Acido',\n",
    "                        'Numero Caso': 23\n",
    "                        }\n",
    "\n",
    "casoBase = zsan_DirB()\n",
    "casoBase.creaNuevoCaso(diccionarioCasoBase, diccionarioAtributosCasoBase, nombreDeFichero = \"casoBase.hdf5\", password = \"asfas\")"
   ]
  },
  {
   "cell_type": "code",
   "execution_count": 3,
   "id": "33d82cfc",
   "metadata": {},
   "outputs": [
    {
     "name": "stdout",
     "output_type": "stream",
     "text": [
      "\n",
      " ===>  Descripción DIR-B casoBase.hdf5\n",
      "\n",
      " **** Parámetros del CASO incluido en el DIR-B  ****** \n",
      "encrypted                                                                                                                                            True\n",
      "password                                                                                                gAAAAABnyFcuHYNe0HtiBDpuKlUYq9OerEQ3yQ6ExS-trU...\n",
      "salt                                                                                                                                     Ïêwrñ\u001e\u0007)V[ÚÔFê=\n",
      "gAAAAABnyFcuM-mX3p4YjAjEYXVtorBBao9gHWe6pQS2JP0M40TDuHG9OcXU3kxS7tmDbwdg7fJbicRf8bwzN5cG2IU0JXivLg==    gAAAAABnyFcuRnZQE1SJtJRgk5PFWKEY-Wyk0H-uNdQAh4...\n",
      "gAAAAABnyFcuiErW_kWN4NguaO0Kk_juSrmlkUZNEMpM4iekQde-b22PYgze9y_ac378YAHGeilw_btyybj_s_6U5VWf6aG0Bg==    gAAAAABnyFcuFIE6iXObzPyXCwITQ2M1qalO0HROneKtf4...\n",
      "\n",
      " **** Atributos del CASO incluido en el DIR-B  ****** \n",
      "gAAAAABnyFcu8UNdmuQLT9ivJvZjJ4hASgUZcC1HrFXffGSqzayzl9bwuThbyYVpOaGvj51upgnG_CEnCslchutvoPdQpZwiwg==    gAAAAABnyFcuPR08rnXbykkbp6X-4F6-mdLLg-abQmf8jW...\n",
      "gAAAAABnyFcuO5cCOsjMxnAowxBb7aoqNG40r1HX2QitL71R6XLqlbtQVsW2qA8IL4_GOhmzlyWXdjUhux_blzEzizFT7b6MiA==    gAAAAABnyFcudw6QWfh6xSF7FctdgDKjrIfz6bvQFpbdVi...\n",
      "gAAAAABnyFcuTsT84j_yuDcbLDZdxbzGjRap2CyF-MCJUKF8wxXq60f5ws_dolkuME47uFLLpkwwUIIFTkbSb9c9ccvu-KUYTg==    gAAAAABnyFcuv1JLfAI5J358YBUrHCylTCSPlfgHDNsPf1...\n",
      "gAAAAABnyFcurMy0SetWtCPAVQ3z9fpqA-YgMap1S75xgJRjlR6H1lpAowF0lAcbXQzCbWJ0OvaF8tGqCL_oPe73HoskyBDJjQ==    gAAAAABnyFcu5cHmvrBIY-cGd6_2-MvxN8CUzSKKr_nAJJ...\n",
      "\n",
      " **** Aún no se han cargado soluciones en el DIR-B ******  \n",
      "\n",
      "\n"
     ]
    }
   ],
   "source": [
    "#casoBase.decrypt(\"casoBase_desencriptado.hdf5\")\n",
    "print(casoBase)"
   ]
  },
  {
   "cell_type": "code",
   "execution_count": 4,
   "id": "c8727ca2",
   "metadata": {},
   "outputs": [
    {
     "name": "stdout",
     "output_type": "stream",
     "text": [
      "\n",
      " ===>  Descripción DIR-B casoBase.hdf5\n",
      "\n",
      " **** Parámetros del CASO incluido en el DIR-B  ****** \n",
      "encrypted                                                 True\n",
      "password     gAAAAABnyFcuHYNe0HtiBDpuKlUYq9OerEQ3yQ6ExS-trU...\n",
      "salt                                          Ïêwrñ\u001e\u0007)V[ÚÔFê=\n",
      "x            gAAAAABnyFcuRnZQE1SJtJRgk5PFWKEY-Wyk0H-uNdQAh4...\n",
      "y            gAAAAABnyFcuFIE6iXObzPyXCwITQ2M1qalO0HROneKtf4...\n",
      "\n",
      " **** Atributos del CASO incluido en el DIR-B  ****** \n",
      "Autor          gAAAAABnyFcuPR08rnXbykkbp6X-4F6-mdLLg-abQmf8jW...\n",
      "Dia            gAAAAABnyFcudw6QWfh6xSF7FctdgDKjrIfz6bvQFpbdVi...\n",
      "Numero Caso    gAAAAABnyFcuv1JLfAI5J358YBUrHCylTCSPlfgHDNsPf1...\n",
      "Escenario      gAAAAABnyFcu5cHmvrBIY-cGd6_2-MvxN8CUzSKKr_nAJJ...\n",
      "\n",
      " **** Aún no se han cargado soluciones en el DIR-B ******  \n",
      "\n",
      "\n"
     ]
    }
   ],
   "source": [
    "casoBase.desencriptaClaves()\n",
    "print(casoBase)"
   ]
  },
  {
   "cell_type": "code",
   "execution_count": 5,
   "id": "003f7b15",
   "metadata": {},
   "outputs": [
    {
     "data": {
      "text/plain": [
       "'RC01334'"
      ]
     },
     "execution_count": 5,
     "metadata": {},
     "output_type": "execute_result"
    }
   ],
   "source": [
    "casoBase.desencriptaCampo_AttrsCaso(\"Autor\")"
   ]
  },
  {
   "cell_type": "markdown",
   "id": "ff831ce5",
   "metadata": {},
   "source": [
    "# Create a solution file to add to the base case\n",
    "This is what a user will do: copy the base file and add their new solution parameters"
   ]
  },
  {
   "cell_type": "code",
   "execution_count": 6,
   "id": "2fca5001",
   "metadata": {},
   "outputs": [
    {
     "name": "stdout",
     "output_type": "stream",
     "text": [
      "Initializing encryption instance with password and salt parameters...\n",
      "Clave correcta\n",
      "La solución se encriptará.\n"
     ]
    }
   ],
   "source": [
    "diccionarioSolucionCaso_1 = {'ex1': 'xxx',\n",
    "                             'ex2': 'yyy',\n",
    "                             'ex3': 'zzz'}\n",
    "diccionarioAtributosSolucionCaso_1 = {\n",
    "                            'Autor': 'BSC0123',\n",
    "                            'Dia':  str(datetime.now()),\n",
    "                            'Escenario': 'Amargo',\n",
    "                            }\n",
    "\n",
    "shutil.copy(\"casoBase.hdf5\", \"casoConSolucion_01.hdf5\")\n",
    "time.sleep(2)    # Really necessary?\n",
    "\n",
    "solucion_1 = zsan_DirB()\n",
    "solucion_1.cargaCaso(\"casoConSolucion_01.hdf5\", password = \"asfas\")\n",
    "solucion_1.guardaNuevaSolucion(diccionarioSolucionCaso_1, diccionarioAtributosSolucionCaso_1)  # Si la password proporcionada en \"cargaCaso\" no coincide con la del fichero, guardaNuevaSolucion() y guardaNuevasSoluciones() no deberían de funcionar, sacando un mensaje de error"
   ]
  },
  {
   "cell_type": "code",
   "execution_count": 7,
   "id": "ca638c78",
   "metadata": {},
   "outputs": [
    {
     "name": "stdout",
     "output_type": "stream",
     "text": [
      "\n",
      " ===>  Descripción DIR-B casoConSolucion_01.hdf5\n",
      "\n",
      " **** Parámetros del CASO incluido en el DIR-B  ****** \n",
      "encrypted                                                                                                                                            True\n",
      "password                                                                                                gAAAAABnyFcuHYNe0HtiBDpuKlUYq9OerEQ3yQ6ExS-trU...\n",
      "salt                                                                                                                                     Ïêwrñ\u001e\u0007)V[ÚÔFê=\n",
      "gAAAAABnyFcuM-mX3p4YjAjEYXVtorBBao9gHWe6pQS2JP0M40TDuHG9OcXU3kxS7tmDbwdg7fJbicRf8bwzN5cG2IU0JXivLg==    gAAAAABnyFcuRnZQE1SJtJRgk5PFWKEY-Wyk0H-uNdQAh4...\n",
      "gAAAAABnyFcuiErW_kWN4NguaO0Kk_juSrmlkUZNEMpM4iekQde-b22PYgze9y_ac378YAHGeilw_btyybj_s_6U5VWf6aG0Bg==    gAAAAABnyFcuFIE6iXObzPyXCwITQ2M1qalO0HROneKtf4...\n",
      "\n",
      " **** Atributos del CASO incluido en el DIR-B  ****** \n",
      "gAAAAABnyFcu8UNdmuQLT9ivJvZjJ4hASgUZcC1HrFXffGSqzayzl9bwuThbyYVpOaGvj51upgnG_CEnCslchutvoPdQpZwiwg==    gAAAAABnyFcuPR08rnXbykkbp6X-4F6-mdLLg-abQmf8jW...\n",
      "gAAAAABnyFcuO5cCOsjMxnAowxBb7aoqNG40r1HX2QitL71R6XLqlbtQVsW2qA8IL4_GOhmzlyWXdjUhux_blzEzizFT7b6MiA==    gAAAAABnyFcudw6QWfh6xSF7FctdgDKjrIfz6bvQFpbdVi...\n",
      "gAAAAABnyFcuTsT84j_yuDcbLDZdxbzGjRap2CyF-MCJUKF8wxXq60f5ws_dolkuME47uFLLpkwwUIIFTkbSb9c9ccvu-KUYTg==    gAAAAABnyFcuv1JLfAI5J358YBUrHCylTCSPlfgHDNsPf1...\n",
      "gAAAAABnyFcurMy0SetWtCPAVQ3z9fpqA-YgMap1S75xgJRjlR6H1lpAowF0lAcbXQzCbWJ0OvaF8tGqCL_oPe73HoskyBDJjQ==    gAAAAABnyFcu5cHmvrBIY-cGd6_2-MvxN8CUzSKKr_nAJJ...\n",
      "\n",
      " **** Parámetros de soluciones incluidas en el DIR-B ******  \n",
      " \n",
      "            gAAAAABnyFcxMgq30FEATBsPSMtfc9V9APBkkFlIhVlNTmLtQsyNIghVwSFEQSK104YlzRFoLUpZwpORwxlek4WwTrMBTrpsSw==  \\\n",
      "SOLUCION  1  gAAAAABnyFcxcSKFad0oFFj142v5ae-z-R4biRlYlcKXP2...                                                     \n",
      "\n",
      "            gAAAAABnyFcxr8cAfclNVLEVjNK3WnFMzu_MtM-z_xFpVwd8ExpSeHbWYNTjBI4z2RZ9Rkm5nAcGen47zsLu5gIYyn7sQHjkyg==  \\\n",
      "SOLUCION  1  gAAAAABnyFcxr5a4H67I-EYbYj46Xb_7G0iqRzI22ucyKR...                                                     \n",
      "\n",
      "            gAAAAABnyFcxXjQQuqNuTX-oCvJ8RdnQm0u4L6l4DW7nUlEhvjDaUIJv-xEFF1FM-4iuHAa0Dr_9WuY7hkGX5az-iL2w1NVUEA==  \n",
      "SOLUCION  1  gAAAAABnyFcxSTxPkCmx8K-_gxqoOEV0ocJ6KxkRMkM1AY...                                                     \n",
      "\n",
      " **** Atributos de soluciones incluidas en el DIR-B ******  \n",
      " \n",
      "            gAAAAABnyFcx5wXT_A8BOINnZqv4v_SjiMxZwOn4jOaMmwZTyEkYjhfCUx7fxj1KMKvxVimJJD2ghp1Z8yoihcN7nNX152vYmQ==  \\\n",
      "SOLUCION  1  gAAAAABnyFcxXi14lDLFfRZUarvHfwaLrYGBIs86oUZSl2...                                                     \n",
      "\n",
      "            gAAAAABnyFcxIP-GdG_8SmkEJaHTidfoz_J3kj8VdKEB-al2eXlgXzBmGAVT83RMZEIz4XYXS0K6Mr0smNxLIsXmp1t8dtzXWQ==  \\\n",
      "SOLUCION  1  gAAAAABnyFcx7o2rEgv6Z6TF1PxeKDNE1HiSiseVYQxwTi...                                                     \n",
      "\n",
      "            gAAAAABnyFcxwANaKTWOdtZCjhXB1rvVcER7xNWZS3pAbqzqO22L4qxCZYh2x-5UhinSI6xTm_ynB817YYe0LWgV6T-IWRx61A==  \n",
      "SOLUCION  1  gAAAAABnyFcxI9slSWIi3s-EEZwcUrKMbgbGslEAplSzyS...                                                     \n",
      "\n",
      "\n"
     ]
    }
   ],
   "source": [
    "print(solucion_1)\n",
    "solucion_1.desencriptaClaves()"
   ]
  },
  {
   "cell_type": "code",
   "execution_count": 13,
   "id": "36c366fa",
   "metadata": {},
   "outputs": [
    {
     "data": {
      "text/plain": [
       "'2025-03-05 14:52:46.775354'"
      ]
     },
     "execution_count": 13,
     "metadata": {},
     "output_type": "execute_result"
    }
   ],
   "source": [
    "solucion_1.desencriptaCampo_AttrsSolucion(\"1\", \"Dia\")"
   ]
  },
  {
   "cell_type": "markdown",
   "id": "5af41f6d",
   "metadata": {},
   "source": [
    "# Create remainging solutions"
   ]
  },
  {
   "cell_type": "code",
   "execution_count": 9,
   "id": "c699f165",
   "metadata": {},
   "outputs": [
    {
     "name": "stdout",
     "output_type": "stream",
     "text": [
      "Fichero encriptado, se debe de proporcionar una clave.\n",
      "El caso no fue cargado correctamente. Comprueba que la contraseña sea correcta.\n"
     ]
    },
    {
     "ename": "TypeError",
     "evalue": "zsan_DirB.__init__() takes 1 positional argument but 2 were given",
     "output_type": "error",
     "traceback": [
      "\u001b[0;31m---------------------------------------------------------------------------\u001b[0m",
      "\u001b[0;31mTypeError\u001b[0m                                 Traceback (most recent call last)",
      "Cell \u001b[0;32mIn[9], line 65\u001b[0m\n\u001b[1;32m     62\u001b[0m shutil\u001b[38;5;241m.\u001b[39mcopy(\u001b[38;5;124m\"\u001b[39m\u001b[38;5;124mcasoBase.hdf5\u001b[39m\u001b[38;5;124m\"\u001b[39m, \u001b[38;5;124m\"\u001b[39m\u001b[38;5;124mcasoConSolucion_03.hdf5\u001b[39m\u001b[38;5;124m\"\u001b[39m)\n\u001b[1;32m     63\u001b[0m time\u001b[38;5;241m.\u001b[39msleep(\u001b[38;5;241m2\u001b[39m)    \u001b[38;5;66;03m# Really necessary?\u001b[39;00m\n\u001b[0;32m---> 65\u001b[0m solucion_3 \u001b[38;5;241m=\u001b[39m \u001b[43mzsan_DirB\u001b[49m\u001b[43m(\u001b[49m\u001b[38;5;124;43m\"\u001b[39;49m\u001b[38;5;124;43masdf\u001b[39;49m\u001b[38;5;124;43m\"\u001b[39;49m\u001b[43m)\u001b[49m\n\u001b[1;32m     66\u001b[0m solucion_3\u001b[38;5;241m.\u001b[39mcargaCaso(\u001b[38;5;124m\"\u001b[39m\u001b[38;5;124mcasoConSolucion_03.hdf5\u001b[39m\u001b[38;5;124m\"\u001b[39m)\n\u001b[1;32m     67\u001b[0m solucion_3\u001b[38;5;241m.\u001b[39mguardaNuevasSoluciones([diccionarioSolucionCaso_3, diccionarioSolucionCaso_4], [diccionarioAtributosSolucionCaso_3, diccionarioAtributosSolucionCaso_4])\n",
      "\u001b[0;31mTypeError\u001b[0m: zsan_DirB.__init__() takes 1 positional argument but 2 were given"
     ]
    }
   ],
   "source": [
    "diccionarioSolucionCaso_2 = {'48': 4.0,\n",
    "                             '4': 48.2}\n",
    "diccionarioSolucionCaso_3 = {'param1': 'p1',\n",
    "                             'param2': 'p2',\n",
    "                             'param3': 'p3',\n",
    "                             'param4': 'p4',\n",
    "                             'param5': 'p5'\n",
    "                            }\n",
    "diccionarioSolucionCaso_4 = {'xx': \"xy\"}\n",
    "diccionarioSolucionCaso_5 = {'parametro1': 3.14156,\n",
    "                             'parametro2': 9.5,\n",
    "                             'parametro3': \"AAXX\"}\n",
    "diccionarioSolucionCaso_6 = {'Carpenter Brut': [\"Roller Mobster\", \"Disco Zombi Italia\"],\n",
    "                             'Vacations': ['Days', 'Day Dreaming', 'No Fun', 'Away']}\n",
    "diccionarioSolucionCaso_7 = {'asdf': 1234,\n",
    "                             'qwer': '0000',\n",
    "                             'zxcv': True}\n",
    "\n",
    "diccionarioAtributosSolucionCaso_2 = {\n",
    "                            'Institución': \"BSC\",\n",
    "                            'Case Name': 'CASO 3',\n",
    "                            'Autores': 'RC01334',\n",
    "                            'Date': '10-09-2018',\n",
    "                            'Numero Caso': 23\n",
    "                            }\n",
    "diccionarioAtributosSolucionCaso_3 = {\n",
    "                            'id': 1,\n",
    "                            }\n",
    "diccionarioAtributosSolucionCaso_4 = {\n",
    "                            'Autor-id-scenario-fecha': 'bsc-1-cuco-04-03-2022'\n",
    "                            }\n",
    "diccionarioAtributosSolucionCaso_5 = {\n",
    "                            }\n",
    "diccionarioAtributosSolucionCaso_6 = {\n",
    "                            'Institución': \"Repsol\",\n",
    "                            'Case Name': \"CASO 3\",\n",
    "                            'Autor-id-scenario-fecha': 'repsol-1-cuco-04-03-2022',\n",
    "                            'a': 'b',\n",
    "                            'c': 'd',\n",
    "                            'e': 'f',\n",
    "                            'g': 'h',\n",
    "                            'i': 'j',\n",
    "                            'k': 'l',\n",
    "                            'm': 'n',\n",
    "                            'o': 'p'\n",
    "                            }\n",
    "diccionarioAtributosSolucionCaso_7 = {\n",
    "                            'Institución': \"\",\n",
    "                            'Fecha':  str(date.today()),\n",
    "                            'Completado': True,\n",
    "                            'Numero Caso': 24\n",
    "                            }\n",
    "\n",
    "\n",
    "shutil.copy(\"casoBase.hdf5\", \"casoConSolucion_02.hdf5\")\n",
    "time.sleep(2)    # Really necessary?\n",
    "\n",
    "solucion_2 = zsan_DirB()\n",
    "solucion_2.cargaCaso(\"casoConSolucion_02.hdf5\")\n",
    "solucion_2.guardaNuevaSolucion(diccionarioSolucionCaso_2, diccionarioAtributosSolucionCaso_2)\n",
    "\n",
    "shutil.copy(\"casoBase.hdf5\", \"casoConSolucion_03.hdf5\")\n",
    "time.sleep(2)    # Really necessary?\n",
    "\n",
    "solucion_3 = zsan_DirB(\"asdf\")\n",
    "solucion_3.cargaCaso(\"casoConSolucion_03.hdf5\")\n",
    "solucion_3.guardaNuevasSoluciones([diccionarioSolucionCaso_3, diccionarioSolucionCaso_4], [diccionarioAtributosSolucionCaso_3, diccionarioAtributosSolucionCaso_4])\n",
    "\n",
    "\n",
    "shutil.copy(\"casoBase.hdf5\", \"casoConSolucion_05.hdf5\")\n",
    "time.sleep(2)    # Really necessary?\n",
    "\n",
    "solucion_5 = zsan_DirB()\n",
    "solucion_5.cargaCaso(\"casoConSolucion_05.hdf5\")\n",
    "solucion_5.guardaNuevaSolucion(diccionarioSolucionCaso_5, diccionarioAtributosSolucionCaso_5)\n",
    "\n",
    "\n",
    "shutil.copy(\"casoBase.hdf5\", \"casoConSolucion_06.hdf5\")\n",
    "time.sleep(2)    # Really necessary?\n",
    "\n",
    "solucion_6 = zsan_DirB()\n",
    "solucion_6.cargaCaso(\"casoConSolucion_06.hdf5\")\n",
    "solucion_6.guardaNuevasSoluciones([diccionarioSolucionCaso_6, diccionarioSolucionCaso_7], [diccionarioAtributosSolucionCaso_6, diccionarioAtributosSolucionCaso_7])"
   ]
  },
  {
   "cell_type": "code",
   "execution_count": null,
   "id": "d651be73",
   "metadata": {},
   "outputs": [],
   "source": [
    "print(solucion_3)"
   ]
  },
  {
   "cell_type": "code",
   "execution_count": null,
   "id": "6c2bbd98",
   "metadata": {},
   "outputs": [],
   "source": [
    "solucion_3.desencriptaClaves()"
   ]
  },
  {
   "cell_type": "code",
   "execution_count": null,
   "id": "f174cbbc",
   "metadata": {},
   "outputs": [],
   "source": [
    "from dirB.merge import mergeListaDeSoluciones\n",
    "\n",
    "casoBase = 'casoBase.hdf5'\n",
    "listaDeCasos = ['casoConSolucion_01.hdf5', 'casoConSolucion_02.hdf5', 'casoConSolucion_03.hdf5',\n",
    "                'casoConSolucion_05.hdf5', 'casoConSolucion_06.hdf5']\n",
    "id_salida = \"salida.hdf5\"\n",
    "\n",
    "mergedList = mergeListaDeSoluciones(casoBase, listaDeCasos, id_salida)"
   ]
  },
  {
   "cell_type": "code",
   "execution_count": null,
   "id": "ba6eaf49",
   "metadata": {},
   "outputs": [],
   "source": [
    "print(\"Visualizar resultado en '\" + mergedList.fullPath + \"' con hdf5view, p.ej.'\")"
   ]
  },
  {
   "cell_type": "code",
   "execution_count": null,
   "id": "e96d6aa5",
   "metadata": {},
   "outputs": [],
   "source": [
    "mergedDirB = zsan_DirB()\n",
    "mergedDirB.cargaCaso(\"salida.hdf5\")"
   ]
  },
  {
   "cell_type": "code",
   "execution_count": null,
   "id": "2ee9c7f9",
   "metadata": {},
   "outputs": [],
   "source": [
    "mergedDirB.listaSolucionesQueTienenDeterminadoAtributo(\"Autores\")"
   ]
  },
  {
   "cell_type": "code",
   "execution_count": null,
   "id": "f80c1c98",
   "metadata": {},
   "outputs": [],
   "source": [
    "mergedDirB.atributosDeUnaSolucion(7)"
   ]
  },
  {
   "cell_type": "code",
   "execution_count": null,
   "id": "320f2118",
   "metadata": {},
   "outputs": [],
   "source": [
    "mergedDirB.solucionesQueTienenUnValorEntreSusAtributos(1)"
   ]
  },
  {
   "cell_type": "code",
   "execution_count": null,
   "id": "547750e5",
   "metadata": {},
   "outputs": [],
   "source": [
    "print(mergedDirB.siUnaSolucionTieneUnAtributo(2, \"Date\"))\n",
    "print(mergedDirB.siUnaSolucionTieneUnAtributo(2, \"Fecha\"))"
   ]
  },
  {
   "cell_type": "code",
   "execution_count": null,
   "id": "8557f708",
   "metadata": {},
   "outputs": [],
   "source": [
    "soluciones = mergedDirB.solucionesQueTieneUnAtributoEnUnaListaPosiblesValores(\"Case Name\", [\"CASO 3\"])\n",
    "print(soluciones)"
   ]
  },
  {
   "cell_type": "code",
   "execution_count": null,
   "id": "67bda212",
   "metadata": {},
   "outputs": [],
   "source": [
    "for s in soluciones:\n",
    "    print(\"Solución \" + str(s[0]) + \":\")\n",
    "    print(''.join(['\\t{0} {1}\\n'.format(k, v) for k, v in mergedDirB.atributosDeUnaSolucion(s[0]).items()]))"
   ]
  }
 ],
 "metadata": {
  "kernelspec": {
   "display_name": "dirB_env",
   "language": "python",
   "name": "python3"
  },
  "language_info": {
   "codemirror_mode": {
    "name": "ipython",
    "version": 3
   },
   "file_extension": ".py",
   "mimetype": "text/x-python",
   "name": "python",
   "nbconvert_exporter": "python",
   "pygments_lexer": "ipython3",
   "version": "3.11.11"
  }
 },
 "nbformat": 4,
 "nbformat_minor": 5
}
