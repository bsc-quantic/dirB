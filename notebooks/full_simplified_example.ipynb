{
 "cells": [
  {
   "cell_type": "code",
   "execution_count": 1,
   "id": "277dc6bd",
   "metadata": {},
   "outputs": [],
   "source": [
    "import os\n",
    "os.chdir(\"..\")\n",
    "\n",
    "from dirB.base import zsan_DirB\n",
    "from datetime import date, datetime\n",
    "import time\n",
    "import shutil"
   ]
  },
  {
   "cell_type": "markdown",
   "id": "678105ec",
   "metadata": {},
   "source": [
    "# Create base case"
   ]
  },
  {
   "cell_type": "code",
   "execution_count": 2,
   "id": "789e021b",
   "metadata": {},
   "outputs": [],
   "source": [
    "diccionarioCasoBase = { 'x': 12,\n",
    "                        'y': 7}\n",
    "diccionarioAtributosCasoBase = {\n",
    "                        'Autor': 'RC01334',\n",
    "                        'Dia':  str(date.today()),\n",
    "                        'Escenario': 'Acido',\n",
    "                        'Numero Caso': 23\n",
    "                        }\n",
    "\n",
    "casoBase = zsan_DirB()\n",
    "casoBase.creaNuevoCaso(diccionarioCasoBase, diccionarioAtributosCasoBase, nombreDeFichero = \"casoBase.hdf5\")"
   ]
  },
  {
   "cell_type": "markdown",
   "id": "cacdf4d4",
   "metadata": {},
   "source": [
    "# Create a solution file to add to the base case\n",
    "This is what a user will do: copy the base file and add their new solution parameters"
   ]
  },
  {
   "cell_type": "code",
   "execution_count": 3,
   "id": "2ef44c03",
   "metadata": {},
   "outputs": [],
   "source": [
    "diccionarioSolucionCaso_2 = {'ex1': 'xxx',\n",
    "                             'ex2': 'yyy',\n",
    "                             'ex3': 'zzz'}\n",
    "diccionarioAtributosSolucionCaso_2 = {\n",
    "                            'Autor': 'BSC0123',\n",
    "                            'Dia':  str(datetime.now()),\n",
    "                            'Escenario': 'Amargo',\n",
    "                            }\n",
    "\n",
    "shutil.copy(\"casoBase.hdf5\", \"casoConSolucion_02.hdf5\")\n",
    "time.sleep(2)    # Really necessary?\n",
    "\n",
    "solucion_2 = zsan_DirB()\n",
    "solucion_2.cargaCaso(\"casoConSolucion_02.hdf5\")\n",
    "solucion_2.guardaNuevaSolucion(diccionarioSolucionCaso_2, diccionarioAtributosSolucionCaso_2)"
   ]
  },
  {
   "cell_type": "markdown",
   "id": "5337e61e",
   "metadata": {},
   "source": [
    "# Create remainging solutions"
   ]
  },
  {
   "cell_type": "code",
   "execution_count": 4,
   "id": "67e42633",
   "metadata": {},
   "outputs": [],
   "source": [
    "diccionarioSolucionCaso_3 = {'48': 4.0,\n",
    "                             '4': 48.2}\n",
    "diccionarioSolucionCaso_4 = {'param1': 'p1',\n",
    "                             'param2': 'p2',\n",
    "                             'param3': 'p3',\n",
    "                             'param4': 'p4',\n",
    "                             'param5': 'p5'\n",
    "                            }\n",
    "diccionarioSolucionCaso_5 = {'xx': \"xy\"}\n",
    "diccionarioSolucionCaso_6 = {'parametro1': 3.14156,\n",
    "                             'parametro2': 9.5,\n",
    "                             'parametro3': \"AAXX\"}\n",
    "diccionarioSolucionCaso_7 = {'Carpenter Brut': [\"Roller Mobster\", \"Disco Zombi Italia\"],\n",
    "                             'Vacations': ['Days', 'Day Dreaming', 'No Fun', 'Away']}\n",
    "diccionarioSolucionCaso_8 = {'asdf': 1234,\n",
    "                             'qwer': '0000',\n",
    "                             'zxcv': True}\n",
    "\n",
    "diccionarioAtributosSolucionCaso_3 = {\n",
    "                            'Case Name': 'CASO 3',\n",
    "                            'Autores': 'RC01334',\n",
    "                            'Date': '10-09-2018',\n",
    "                            'Numero Caso': 23\n",
    "                            }\n",
    "diccionarioAtributosSolucionCaso_4 = {\n",
    "                            'id': 1,\n",
    "                            }\n",
    "diccionarioAtributosSolucionCaso_5 = {\n",
    "                            'Autor-id-scenario-fecha': 'bsc-1-cuco-04-03-2022'\n",
    "                            }\n",
    "diccionarioAtributosSolucionCaso_6 = {\n",
    "                            }\n",
    "diccionarioAtributosSolucionCaso_7 = {\n",
    "                            'a': 'b',\n",
    "                            'c': 'd',\n",
    "                            'e': 'f',\n",
    "                            'g': 'h',\n",
    "                            'i': 'j',\n",
    "                            'k': 'l',\n",
    "                            'm': 'n',\n",
    "                            'o': 'p'\n",
    "                            }\n",
    "diccionarioAtributosSolucionCaso_8 = {\n",
    "                            'Institución': \"\",\n",
    "                            'Fecha':  str(date.today()),\n",
    "                            'Completado': True,\n",
    "                            'Numero Caso': 24\n",
    "                            }\n",
    "\n",
    "\n",
    "shutil.copy(\"casoBase.hdf5\", \"casoConSolucion_03.hdf5\")\n",
    "time.sleep(2)    # Really necessary?\n",
    "\n",
    "solucion_3 = zsan_DirB()\n",
    "solucion_3.cargaCaso(\"casoConSolucion_03.hdf5\")\n",
    "solucion_3.guardaNuevaSolucion(diccionarioSolucionCaso_3, diccionarioAtributosSolucionCaso_3)\n",
    "\n",
    "\n",
    "shutil.copy(\"casoBase.hdf5\", \"casoConSolucion_04.hdf5\")\n",
    "time.sleep(2)    # Really necessary?\n",
    "\n",
    "solucion_4 = zsan_DirB()\n",
    "solucion_4.cargaCaso(\"casoConSolucion_04.hdf5\")\n",
    "solucion_4.guardaNuevasSoluciones([diccionarioSolucionCaso_4, diccionarioSolucionCaso_5], [diccionarioAtributosSolucionCaso_4, diccionarioAtributosSolucionCaso_5])\n",
    "\n",
    "\n",
    "shutil.copy(\"casoBase.hdf5\", \"casoConSolucion_06.hdf5\")\n",
    "time.sleep(2)    # Really necessary?\n",
    "\n",
    "solucion_6 = zsan_DirB()\n",
    "solucion_6.cargaCaso(\"casoConSolucion_06.hdf5\")\n",
    "solucion_6.guardaNuevaSolucion(diccionarioSolucionCaso_6, diccionarioAtributosSolucionCaso_6)\n",
    "\n",
    "\n",
    "shutil.copy(\"casoBase.hdf5\", \"casoConSolucion_07.hdf5\")\n",
    "time.sleep(2)    # Really necessary?\n",
    "\n",
    "solucion_7 = zsan_DirB()\n",
    "solucion_7.cargaCaso(\"casoConSolucion_07.hdf5\")\n",
    "solucion_7.guardaNuevasSoluciones([diccionarioSolucionCaso_7, diccionarioSolucionCaso_8], [diccionarioAtributosSolucionCaso_7, diccionarioAtributosSolucionCaso_8])"
   ]
  },
  {
   "cell_type": "code",
   "execution_count": 5,
   "id": "66467ac5",
   "metadata": {},
   "outputs": [],
   "source": [
    "from dirB.merge import mergeListaDeSoluciones\n",
    "\n",
    "casoBase = 'casoBase.hdf5'\n",
    "listaDeCasos = ['casoConSolucion_02.hdf5', 'casoConSolucion_03.hdf5', 'casoConSolucion_04.hdf5',\n",
    "                'casoConSolucion_06.hdf5', 'casoConSolucion_07.hdf5']\n",
    "id_salida = \"salida.hdf5\"\n",
    "\n",
    "mergedList = mergeListaDeSoluciones(casoBase, listaDeCasos, id_salida)"
   ]
  },
  {
   "cell_type": "code",
   "execution_count": 6,
   "id": "81cda3ba",
   "metadata": {},
   "outputs": [
    {
     "name": "stdout",
     "output_type": "stream",
     "text": [
      "Visualizar resultado en 'C:\\Users\\German\\Documents\\Work\\Repsol\\dirB\\salida.hdf5' con hdf5view, p.ej.'\n"
     ]
    }
   ],
   "source": [
    "print(\"Visualizar resultado en '\" + mergedList.fullPath + \"' con hdf5view, p.ej.'\")"
   ]
  }
 ],
 "metadata": {
  "kernelspec": {
   "display_name": "Python 3 (ipykernel)",
   "language": "python",
   "name": "python3"
  },
  "language_info": {
   "codemirror_mode": {
    "name": "ipython",
    "version": 3
   },
   "file_extension": ".py",
   "mimetype": "text/x-python",
   "name": "python",
   "nbconvert_exporter": "python",
   "pygments_lexer": "ipython3",
   "version": "3.10.7"
  }
 },
 "nbformat": 4,
 "nbformat_minor": 5
}
